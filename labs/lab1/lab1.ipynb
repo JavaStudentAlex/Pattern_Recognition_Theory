{
 "cells": [
  {
   "cell_type": "markdown",
   "metadata": {
    "pycharm": {
     "name": "#%% md\n"
    }
   },
   "source": [
    "# Код реалізації та результати до завдання 1\n",
    "Import libraries"
   ]
  },
  {
   "cell_type": "code",
   "execution_count": 1,
   "metadata": {
    "collapsed": true
   },
   "outputs": [],
   "source": [
    "from sklearn.metrics import accuracy_score\n",
    "import numpy as np\n",
    "import pandas as pd\n",
    "import matplotlib.pyplot as plt\n",
    "from IPython.display import Image\n",
    "\n",
    "from labs.helpers import read_dataset"
   ]
  },
  {
   "cell_type": "markdown",
   "metadata": {
    "pycharm": {
     "name": "#%% md\n"
    }
   },
   "source": [
    "Prepare to load data"
   ]
  },
  {
   "cell_type": "code",
   "execution_count": 2,
   "metadata": {
    "pycharm": {
     "name": "#%%\n"
    }
   },
   "outputs": [],
   "source": [
    "data_dir = \"../../data/train\"\n",
    "classes = [\"field\", \"road\", \"town\", \"water\"]\n",
    "file_pattern = \"*{}*.jpg\"\n",
    "standard_shape = (50, 50, 3)"
   ]
  },
  {
   "cell_type": "markdown",
   "metadata": {
    "pycharm": {
     "name": "#%% md\n"
    }
   },
   "source": [
    "Load data and split it to train and test datasets"
   ]
  },
  {
   "cell_type": "code",
   "execution_count": 3,
   "metadata": {
    "pycharm": {
     "name": "#%%\n"
    }
   },
   "outputs": [],
   "source": [
    "dataset, features = read_dataset(data_dir, classes, file_pattern, standard_shape)\n",
    "train_df = dataset.sample(frac=0.85, random_state=18)\n",
    "test_df = dataset.drop(train_df.index)"
   ]
  },
  {
   "cell_type": "markdown",
   "metadata": {
    "pycharm": {
     "name": "#%% md\n"
    }
   },
   "source": [
    "Demonstrate datasets"
   ]
  },
  {
   "cell_type": "code",
   "execution_count": 4,
   "metadata": {
    "pycharm": {
     "name": "#%%\n"
    }
   },
   "outputs": [
    {
     "data": {
      "text/html": [
       "<div>\n",
       "<style scoped>\n",
       "    .dataframe tbody tr th:only-of-type {\n",
       "        vertical-align: middle;\n",
       "    }\n",
       "\n",
       "    .dataframe tbody tr th {\n",
       "        vertical-align: top;\n",
       "    }\n",
       "\n",
       "    .dataframe thead th {\n",
       "        text-align: right;\n",
       "    }\n",
       "</style>\n",
       "<table border=\"1\" class=\"dataframe\">\n",
       "  <thead>\n",
       "    <tr style=\"text-align: right;\">\n",
       "      <th></th>\n",
       "      <th>1:1:1</th>\n",
       "      <th>1:1:2</th>\n",
       "      <th>1:1:3</th>\n",
       "      <th>1:2:1</th>\n",
       "      <th>1:2:2</th>\n",
       "      <th>1:2:3</th>\n",
       "      <th>1:3:1</th>\n",
       "      <th>1:3:2</th>\n",
       "      <th>1:3:3</th>\n",
       "      <th>1:4:1</th>\n",
       "      <th>...</th>\n",
       "      <th>50:48:1</th>\n",
       "      <th>50:48:2</th>\n",
       "      <th>50:48:3</th>\n",
       "      <th>50:49:1</th>\n",
       "      <th>50:49:2</th>\n",
       "      <th>50:49:3</th>\n",
       "      <th>50:50:1</th>\n",
       "      <th>50:50:2</th>\n",
       "      <th>50:50:3</th>\n",
       "      <th>class</th>\n",
       "    </tr>\n",
       "  </thead>\n",
       "  <tbody>\n",
       "    <tr>\n",
       "      <th>36</th>\n",
       "      <td>36.0</td>\n",
       "      <td>72.0</td>\n",
       "      <td>72.0</td>\n",
       "      <td>39.0</td>\n",
       "      <td>75.0</td>\n",
       "      <td>75.0</td>\n",
       "      <td>42.0</td>\n",
       "      <td>78.0</td>\n",
       "      <td>78.0</td>\n",
       "      <td>44.0</td>\n",
       "      <td>...</td>\n",
       "      <td>39.0</td>\n",
       "      <td>74.0</td>\n",
       "      <td>76.0</td>\n",
       "      <td>43.0</td>\n",
       "      <td>78.0</td>\n",
       "      <td>80.0</td>\n",
       "      <td>41.0</td>\n",
       "      <td>76.0</td>\n",
       "      <td>78.0</td>\n",
       "      <td>water</td>\n",
       "    </tr>\n",
       "    <tr>\n",
       "      <th>26</th>\n",
       "      <td>165.0</td>\n",
       "      <td>187.0</td>\n",
       "      <td>114.0</td>\n",
       "      <td>176.0</td>\n",
       "      <td>202.0</td>\n",
       "      <td>137.0</td>\n",
       "      <td>152.0</td>\n",
       "      <td>186.0</td>\n",
       "      <td>136.0</td>\n",
       "      <td>89.0</td>\n",
       "      <td>...</td>\n",
       "      <td>142.0</td>\n",
       "      <td>185.0</td>\n",
       "      <td>105.0</td>\n",
       "      <td>134.0</td>\n",
       "      <td>172.0</td>\n",
       "      <td>99.0</td>\n",
       "      <td>115.0</td>\n",
       "      <td>153.0</td>\n",
       "      <td>80.0</td>\n",
       "      <td>town</td>\n",
       "    </tr>\n",
       "    <tr>\n",
       "      <th>28</th>\n",
       "      <td>228.0</td>\n",
       "      <td>213.0</td>\n",
       "      <td>154.0</td>\n",
       "      <td>228.0</td>\n",
       "      <td>216.0</td>\n",
       "      <td>156.0</td>\n",
       "      <td>230.0</td>\n",
       "      <td>222.0</td>\n",
       "      <td>160.0</td>\n",
       "      <td>231.0</td>\n",
       "      <td>...</td>\n",
       "      <td>250.0</td>\n",
       "      <td>249.0</td>\n",
       "      <td>218.0</td>\n",
       "      <td>251.0</td>\n",
       "      <td>249.0</td>\n",
       "      <td>226.0</td>\n",
       "      <td>251.0</td>\n",
       "      <td>249.0</td>\n",
       "      <td>226.0</td>\n",
       "      <td>town</td>\n",
       "    </tr>\n",
       "    <tr>\n",
       "      <th>37</th>\n",
       "      <td>152.0</td>\n",
       "      <td>180.0</td>\n",
       "      <td>121.0</td>\n",
       "      <td>149.0</td>\n",
       "      <td>177.0</td>\n",
       "      <td>118.0</td>\n",
       "      <td>148.0</td>\n",
       "      <td>173.0</td>\n",
       "      <td>115.0</td>\n",
       "      <td>148.0</td>\n",
       "      <td>...</td>\n",
       "      <td>54.0</td>\n",
       "      <td>86.0</td>\n",
       "      <td>85.0</td>\n",
       "      <td>56.0</td>\n",
       "      <td>88.0</td>\n",
       "      <td>87.0</td>\n",
       "      <td>56.0</td>\n",
       "      <td>88.0</td>\n",
       "      <td>87.0</td>\n",
       "      <td>water</td>\n",
       "    </tr>\n",
       "    <tr>\n",
       "      <th>16</th>\n",
       "      <td>131.0</td>\n",
       "      <td>150.0</td>\n",
       "      <td>104.0</td>\n",
       "      <td>117.0</td>\n",
       "      <td>139.0</td>\n",
       "      <td>90.0</td>\n",
       "      <td>119.0</td>\n",
       "      <td>144.0</td>\n",
       "      <td>89.0</td>\n",
       "      <td>128.0</td>\n",
       "      <td>...</td>\n",
       "      <td>129.0</td>\n",
       "      <td>169.0</td>\n",
       "      <td>98.0</td>\n",
       "      <td>129.0</td>\n",
       "      <td>166.0</td>\n",
       "      <td>99.0</td>\n",
       "      <td>129.0</td>\n",
       "      <td>166.0</td>\n",
       "      <td>99.0</td>\n",
       "      <td>road</td>\n",
       "    </tr>\n",
       "  </tbody>\n",
       "</table>\n",
       "<p>5 rows × 7501 columns</p>\n",
       "</div>"
      ],
      "text/plain": [
       "    1:1:1  1:1:2  1:1:3  1:2:1  1:2:2  1:2:3  1:3:1  1:3:2  1:3:3  1:4:1  ...  \\\n",
       "36   36.0   72.0   72.0   39.0   75.0   75.0   42.0   78.0   78.0   44.0  ...   \n",
       "26  165.0  187.0  114.0  176.0  202.0  137.0  152.0  186.0  136.0   89.0  ...   \n",
       "28  228.0  213.0  154.0  228.0  216.0  156.0  230.0  222.0  160.0  231.0  ...   \n",
       "37  152.0  180.0  121.0  149.0  177.0  118.0  148.0  173.0  115.0  148.0  ...   \n",
       "16  131.0  150.0  104.0  117.0  139.0   90.0  119.0  144.0   89.0  128.0  ...   \n",
       "\n",
       "    50:48:1  50:48:2  50:48:3  50:49:1  50:49:2  50:49:3  50:50:1  50:50:2  \\\n",
       "36     39.0     74.0     76.0     43.0     78.0     80.0     41.0     76.0   \n",
       "26    142.0    185.0    105.0    134.0    172.0     99.0    115.0    153.0   \n",
       "28    250.0    249.0    218.0    251.0    249.0    226.0    251.0    249.0   \n",
       "37     54.0     86.0     85.0     56.0     88.0     87.0     56.0     88.0   \n",
       "16    129.0    169.0     98.0    129.0    166.0     99.0    129.0    166.0   \n",
       "\n",
       "    50:50:3  class  \n",
       "36     78.0  water  \n",
       "26     80.0   town  \n",
       "28    226.0   town  \n",
       "37     87.0  water  \n",
       "16     99.0   road  \n",
       "\n",
       "[5 rows x 7501 columns]"
      ]
     },
     "execution_count": 4,
     "metadata": {},
     "output_type": "execute_result"
    }
   ],
   "source": [
    "train_df.head()"
   ]
  },
  {
   "cell_type": "code",
   "execution_count": 5,
   "metadata": {
    "pycharm": {
     "name": "#%%\n"
    }
   },
   "outputs": [
    {
     "data": {
      "text/html": [
       "<div>\n",
       "<style scoped>\n",
       "    .dataframe tbody tr th:only-of-type {\n",
       "        vertical-align: middle;\n",
       "    }\n",
       "\n",
       "    .dataframe tbody tr th {\n",
       "        vertical-align: top;\n",
       "    }\n",
       "\n",
       "    .dataframe thead th {\n",
       "        text-align: right;\n",
       "    }\n",
       "</style>\n",
       "<table border=\"1\" class=\"dataframe\">\n",
       "  <thead>\n",
       "    <tr style=\"text-align: right;\">\n",
       "      <th></th>\n",
       "      <th>1:1:1</th>\n",
       "      <th>1:1:2</th>\n",
       "      <th>1:1:3</th>\n",
       "      <th>1:2:1</th>\n",
       "      <th>1:2:2</th>\n",
       "      <th>1:2:3</th>\n",
       "      <th>1:3:1</th>\n",
       "      <th>1:3:2</th>\n",
       "      <th>1:3:3</th>\n",
       "      <th>1:4:1</th>\n",
       "      <th>...</th>\n",
       "      <th>50:48:1</th>\n",
       "      <th>50:48:2</th>\n",
       "      <th>50:48:3</th>\n",
       "      <th>50:49:1</th>\n",
       "      <th>50:49:2</th>\n",
       "      <th>50:49:3</th>\n",
       "      <th>50:50:1</th>\n",
       "      <th>50:50:2</th>\n",
       "      <th>50:50:3</th>\n",
       "      <th>class</th>\n",
       "    </tr>\n",
       "  </thead>\n",
       "  <tbody>\n",
       "    <tr>\n",
       "      <th>2</th>\n",
       "      <td>187.0</td>\n",
       "      <td>208.0</td>\n",
       "      <td>133.0</td>\n",
       "      <td>184.0</td>\n",
       "      <td>205.0</td>\n",
       "      <td>130.0</td>\n",
       "      <td>181.0</td>\n",
       "      <td>202.0</td>\n",
       "      <td>127.0</td>\n",
       "      <td>180.0</td>\n",
       "      <td>...</td>\n",
       "      <td>145.0</td>\n",
       "      <td>179.0</td>\n",
       "      <td>92.0</td>\n",
       "      <td>143.0</td>\n",
       "      <td>179.0</td>\n",
       "      <td>92.0</td>\n",
       "      <td>143.0</td>\n",
       "      <td>179.0</td>\n",
       "      <td>92.0</td>\n",
       "      <td>field</td>\n",
       "    </tr>\n",
       "    <tr>\n",
       "      <th>5</th>\n",
       "      <td>196.0</td>\n",
       "      <td>207.0</td>\n",
       "      <td>131.0</td>\n",
       "      <td>194.0</td>\n",
       "      <td>205.0</td>\n",
       "      <td>129.0</td>\n",
       "      <td>190.0</td>\n",
       "      <td>200.0</td>\n",
       "      <td>127.0</td>\n",
       "      <td>186.0</td>\n",
       "      <td>...</td>\n",
       "      <td>174.0</td>\n",
       "      <td>186.0</td>\n",
       "      <td>114.0</td>\n",
       "      <td>174.0</td>\n",
       "      <td>192.0</td>\n",
       "      <td>116.0</td>\n",
       "      <td>174.0</td>\n",
       "      <td>192.0</td>\n",
       "      <td>116.0</td>\n",
       "      <td>field</td>\n",
       "    </tr>\n",
       "    <tr>\n",
       "      <th>8</th>\n",
       "      <td>137.0</td>\n",
       "      <td>171.0</td>\n",
       "      <td>87.0</td>\n",
       "      <td>139.0</td>\n",
       "      <td>173.0</td>\n",
       "      <td>89.0</td>\n",
       "      <td>141.0</td>\n",
       "      <td>175.0</td>\n",
       "      <td>91.0</td>\n",
       "      <td>143.0</td>\n",
       "      <td>...</td>\n",
       "      <td>150.0</td>\n",
       "      <td>184.0</td>\n",
       "      <td>107.0</td>\n",
       "      <td>149.0</td>\n",
       "      <td>183.0</td>\n",
       "      <td>109.0</td>\n",
       "      <td>148.0</td>\n",
       "      <td>182.0</td>\n",
       "      <td>108.0</td>\n",
       "      <td>field</td>\n",
       "    </tr>\n",
       "    <tr>\n",
       "      <th>19</th>\n",
       "      <td>204.0</td>\n",
       "      <td>216.0</td>\n",
       "      <td>142.0</td>\n",
       "      <td>197.0</td>\n",
       "      <td>208.0</td>\n",
       "      <td>130.0</td>\n",
       "      <td>190.0</td>\n",
       "      <td>202.0</td>\n",
       "      <td>120.0</td>\n",
       "      <td>187.0</td>\n",
       "      <td>...</td>\n",
       "      <td>178.0</td>\n",
       "      <td>188.0</td>\n",
       "      <td>101.0</td>\n",
       "      <td>166.0</td>\n",
       "      <td>189.0</td>\n",
       "      <td>101.0</td>\n",
       "      <td>165.0</td>\n",
       "      <td>188.0</td>\n",
       "      <td>100.0</td>\n",
       "      <td>road</td>\n",
       "    </tr>\n",
       "    <tr>\n",
       "      <th>24</th>\n",
       "      <td>201.0</td>\n",
       "      <td>201.0</td>\n",
       "      <td>129.0</td>\n",
       "      <td>202.0</td>\n",
       "      <td>201.0</td>\n",
       "      <td>134.0</td>\n",
       "      <td>203.0</td>\n",
       "      <td>201.0</td>\n",
       "      <td>140.0</td>\n",
       "      <td>209.0</td>\n",
       "      <td>...</td>\n",
       "      <td>207.0</td>\n",
       "      <td>199.0</td>\n",
       "      <td>162.0</td>\n",
       "      <td>205.0</td>\n",
       "      <td>209.0</td>\n",
       "      <td>150.0</td>\n",
       "      <td>207.0</td>\n",
       "      <td>211.0</td>\n",
       "      <td>152.0</td>\n",
       "      <td>town</td>\n",
       "    </tr>\n",
       "  </tbody>\n",
       "</table>\n",
       "<p>5 rows × 7501 columns</p>\n",
       "</div>"
      ],
      "text/plain": [
       "    1:1:1  1:1:2  1:1:3  1:2:1  1:2:2  1:2:3  1:3:1  1:3:2  1:3:3  1:4:1  ...  \\\n",
       "2   187.0  208.0  133.0  184.0  205.0  130.0  181.0  202.0  127.0  180.0  ...   \n",
       "5   196.0  207.0  131.0  194.0  205.0  129.0  190.0  200.0  127.0  186.0  ...   \n",
       "8   137.0  171.0   87.0  139.0  173.0   89.0  141.0  175.0   91.0  143.0  ...   \n",
       "19  204.0  216.0  142.0  197.0  208.0  130.0  190.0  202.0  120.0  187.0  ...   \n",
       "24  201.0  201.0  129.0  202.0  201.0  134.0  203.0  201.0  140.0  209.0  ...   \n",
       "\n",
       "    50:48:1  50:48:2  50:48:3  50:49:1  50:49:2  50:49:3  50:50:1  50:50:2  \\\n",
       "2     145.0    179.0     92.0    143.0    179.0     92.0    143.0    179.0   \n",
       "5     174.0    186.0    114.0    174.0    192.0    116.0    174.0    192.0   \n",
       "8     150.0    184.0    107.0    149.0    183.0    109.0    148.0    182.0   \n",
       "19    178.0    188.0    101.0    166.0    189.0    101.0    165.0    188.0   \n",
       "24    207.0    199.0    162.0    205.0    209.0    150.0    207.0    211.0   \n",
       "\n",
       "    50:50:3  class  \n",
       "2      92.0  field  \n",
       "5     116.0  field  \n",
       "8     108.0  field  \n",
       "19    100.0   road  \n",
       "24    152.0   town  \n",
       "\n",
       "[5 rows x 7501 columns]"
      ]
     },
     "execution_count": 5,
     "metadata": {},
     "output_type": "execute_result"
    }
   ],
   "source": [
    "test_df.head()\n"
   ]
  },
  {
   "cell_type": "markdown",
   "metadata": {
    "pycharm": {
     "name": "#%% md\n"
    }
   },
   "source": [
    "Python class that realizes learning and prediction operations"
   ]
  },
  {
   "cell_type": "code",
   "execution_count": 6,
   "metadata": {
    "pycharm": {
     "name": "#%%\n"
    }
   },
   "outputs": [],
   "source": [
    "class Classifier:\n",
    "    __classes_centers = None\n",
    "    __features = None\n",
    "\n",
    "    def fit(self, df: pd.DataFrame, train_features: list, target: str):\n",
    "        self.__features = train_features\n",
    "        self.__classes_centers = df.groupby(by=target).mean()[train_features]\n",
    "\n",
    "    def predict(self, df: pd.DataFrame):\n",
    "        predicted_classes = []\n",
    "        for current_measure_index in df.index:\n",
    "            current_measure = df.loc[current_measure_index, self.__features].values\n",
    "            current_predicted_class = self.__get_nearest_class(current_measure)\n",
    "            predicted_classes.append(current_predicted_class)\n",
    "        return predicted_classes\n",
    "\n",
    "    def __get_nearest_class(self, measure):\n",
    "        best_class_index = self.__get_best_class_index(measure)\n",
    "        return self.__classes_centers.index[best_class_index]\n",
    "\n",
    "    def __get_best_class_index(self, measure):\n",
    "        tilled_measure = np.tile(measure, (len(self.__classes_centers.index), 1))\n",
    "        difference = self.__classes_centers.values - tilled_measure\n",
    "        squares = np.square(difference)\n",
    "        sums = np.sum(squares, axis=1)\n",
    "        return np.argmin(sums)\n"
   ]
  },
  {
   "cell_type": "markdown",
   "metadata": {
    "pycharm": {
     "name": "#%% md\n"
    }
   },
   "source": [
    "Train the model and predict classes for test data"
   ]
  },
  {
   "cell_type": "code",
   "execution_count": 7,
   "metadata": {
    "pycharm": {
     "name": "#%%\n"
    }
   },
   "outputs": [],
   "source": [
    "model = Classifier()\n",
    "model.fit(train_df, features, \"class\")\n",
    "predicted_classes = model.predict(test_df)"
   ]
  },
  {
   "cell_type": "markdown",
   "metadata": {
    "pycharm": {
     "name": "#%% md\n"
    }
   },
   "source": [
    "Calc the accuracy score"
   ]
  },
  {
   "cell_type": "code",
   "execution_count": 8,
   "metadata": {
    "pycharm": {
     "name": "#%%\n"
    }
   },
   "outputs": [
    {
     "name": "stdout",
     "output_type": "stream",
     "text": [
      "The accuracy score is 100.0 %\n"
     ]
    }
   ],
   "source": [
    "real_classes = test_df[\"class\"].values\n",
    "acc = accuracy_score(test_df[\"class\"], predicted_classes)\n",
    "print(f\"The accuracy score is {acc * 100} %\")"
   ]
  },
  {
   "cell_type": "markdown",
   "metadata": {
    "pycharm": {
     "name": "#%% md\n"
    }
   },
   "source": [
    "Dependency of accuracy from number of features"
   ]
  },
  {
   "cell_type": "code",
   "execution_count": 9,
   "metadata": {
    "pycharm": {
     "name": "#%%\n"
    }
   },
   "outputs": [
    {
     "data": {
      "text/plain": [
       "Text(0, 0.5, 'Accuracy')"
      ]
     },
     "execution_count": 9,
     "metadata": {},
     "output_type": "execute_result"
    },
    {
     "data": {
      "image/png": "[encoded data removed]",
      "text/plain": [
       "<Figure size 432x288 with 1 Axes>"
      ]
     },
     "metadata": {
      "needs_background": "light"
     },
     "output_type": "display_data"
    }
   ],
   "source": [
    "features_numbers = []\n",
    "accuracy_values = []\n",
    "for i in range(100, 7500, 100):\n",
    "    local_features_to_use = features[:i]\n",
    "    local_model = Classifier()\n",
    "    local_model.fit(train_df, local_features_to_use, \"class\")\n",
    "    local_predicted_classes = local_model.predict(test_df)\n",
    "    local_acc = round(accuracy_score(real_classes, local_predicted_classes), 3)\n",
    "    features_numbers.append(i)\n",
    "    accuracy_values.append(local_acc)\n",
    "\n",
    "plt.plot(features_numbers, accuracy_values)\n",
    "plt.title(\"Dependency of accuracy from number of features\")\n",
    "plt.xlabel(\"Features_number\")\n",
    "plt.ylabel(\"Accuracy\")"
   ]
  },
  {
   "cell_type": "markdown",
   "metadata": {
    "pycharm": {
     "name": "#%% md\n"
    }
   },
   "source": [
    "Dependency of accuracy from number of classes"
   ]
  },
  {
   "cell_type": "code",
   "execution_count": 10,
   "metadata": {
    "pycharm": {
     "name": "#%%\n"
    }
   },
   "outputs": [
    {
     "data": {
      "text/plain": [
       "Text(0, 0.5, 'Accuracy')"
      ]
     },
     "execution_count": 10,
     "metadata": {},
     "output_type": "execute_result"
    },
    {
     "data": {
      "image/png": "[encoded data removed]",
      "text/plain": [
       "<Figure size 432x288 with 1 Axes>"
      ]
     },
     "metadata": {
      "needs_background": "light"
     },
     "output_type": "display_data"
    }
   ],
   "source": [
    "class_numbers = []\n",
    "accuracy_values = []\n",
    "\n",
    "for class_number in range(1, len(classes), 1):\n",
    "    local_classes = classes[:class_number]\n",
    "    local_dataset = dataset[dataset[\"class\"].isin(local_classes)]\n",
    "    local_train_df = local_dataset.sample(frac=0.85, random_state=18)\n",
    "    local_test_df = local_dataset.drop(local_train_df.index)\n",
    "    classes_local_model = Classifier()\n",
    "    classes_local_model.fit(local_train_df, features, \"class\")\n",
    "    local_predicted = classes_local_model.predict(local_test_df)\n",
    "    real = local_test_df[\"class\"].values\n",
    "    acc_val = accuracy_score(real, local_predicted)\n",
    "    class_numbers.append(class_number)\n",
    "    accuracy_values.append(acc_val)\n",
    "    \n",
    "plt.plot(class_numbers, accuracy_values)\n",
    "plt.title(\"Dependency of accuracy from number of classes\")\n",
    "plt.xlabel(\"Number of classes\")\n",
    "plt.ylabel(\"Accuracy\")"
   ]
  },
  {
   "cell_type": "markdown",
   "metadata": {
    "pycharm": {
     "name": "#%% md\n"
    }
   },
   "source": [
    "Demonstrate some images"
   ]
  },
  {
   "cell_type": "code",
   "execution_count": 11,
   "metadata": {
    "pycharm": {
     "name": "#%%\n"
    }
   },
   "outputs": [
    {
     "data": {
      "image/jpeg": "[encoded data removed]",
      "text/plain": [
       "<IPython.core.display.Image object>"
      ]
     },
     "execution_count": 11,
     "metadata": {},
     "output_type": "execute_result"
    }
   ],
   "source": [
    "Image(filename=f\"{data_dir}/water.jpg\")"
   ]
  },
  {
   "cell_type": "code",
   "execution_count": 12,
   "metadata": {
    "pycharm": {
     "name": "#%%\n"
    }
   },
   "outputs": [
    {
     "data": {
      "image/jpeg": "[encoded data removed]",
      "text/plain": [
       "<IPython.core.display.Image object>"
      ]
     },
     "execution_count": 12,
     "metadata": {},
     "output_type": "execute_result"
    }
   ],
   "source": [
    "Image(filename=f\"{data_dir}/town.jpg\")"
   ]
  },
  {
   "cell_type": "code",
   "execution_count": 13,
   "metadata": {
    "pycharm": {
     "name": "#%%\n"
    }
   },
   "outputs": [
    {
     "data": {
      "image/jpeg": "[encoded data removed]",
      "text/plain": [
       "<IPython.core.display.Image object>"
      ]
     },
     "execution_count": 13,
     "metadata": {},
     "output_type": "execute_result"
    }
   ],
   "source": [
    "Image(filename=f\"{data_dir}/road.jpg\")"
   ]
  },
  {
   "cell_type": "code",
   "execution_count": 14,
   "metadata": {
    "pycharm": {
     "name": "#%%\n"
    }
   },
   "outputs": [
    {
     "data": {
      "image/jpeg": "[encoded data removed]",
      "text/plain": [
       "<IPython.core.display.Image object>"
      ]
     },
     "execution_count": 14,
     "metadata": {},
     "output_type": "execute_result"
    }
   ],
   "source": [
    "Image(filename=f\"{data_dir}/field.jpg\")"
   ]
  },
  {
   "cell_type": "markdown",
   "metadata": {},
   "source": [
    "# Висновок\n",
    "\n",
    "У даному завдання були взяті чотири різні види зображення(вода, місто, поле та ліс). Ці дані були перетворені на вектори\n",
    "фіч та розподілені на вибірки для тренування та навчання. Для навчання використовувався метод еталонів. Модель вказаного программного класу була навчена методом ```fit```. Для класифікації був використаний метод ```predict``` із вказаного программного класу. Модель показала точність 100%. Далі були проведені тести стосовно побудови моделей, що навчаються за різною кількістю ознак.\n",
    "Як видно із малюнку графіку точність у вказаному тесті коливається від 30 до 100 відсотків. Зі збільшенням кількості ознак збільшувалася і точність розпізнавання.\n",
    "Також був проведений тест із різною кількістю класів розпізнавання і за малюнком графіку було визнано, що зі зменшенням кількості класів точність класифікації підвищується до 100%.\n"
   ]
  }
 ],
 "metadata": {
  "kernelspec": {
   "display_name": "Python 3",
   "language": "python",
   "name": "python3"
  },
  "language_info": {
   "codemirror_mode": {
    "name": "ipython",
    "version": 3
   },
   "file_extension": ".py",
   "mimetype": "text/x-python",
   "name": "python",
   "nbconvert_exporter": "python",
   "pygments_lexer": "ipython3",
   "version": "3.8.6"
  }
 },
 "nbformat": 4,
 "nbformat_minor": 1
}
