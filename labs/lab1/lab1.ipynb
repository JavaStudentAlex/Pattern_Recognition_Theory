{
 "cells": [
  {
   "cell_type": "code",
   "execution_count": 11,
   "metadata": {
    "collapsed": true
   },
   "outputs": [],
   "source": [
    "from sklearn.metrics import accuracy_score\n",
    "\n",
    "from labs.helpers import read_dataset\n",
    "from labs.lab1.classifier import Classifier"
   ]
  },
  {
   "cell_type": "code",
   "execution_count": 12,
   "outputs": [],
   "source": [
    "data_dir = \"../../data/train\"\n",
    "classes = [\"field\", \"road\", \"town\", \"water\"]\n",
    "file_pattern = \"*{}*.jpg\"\n",
    "standard_shape = (50, 50, 3)"
   ],
   "metadata": {
    "collapsed": false,
    "pycharm": {
     "name": "#%%\n"
    }
   }
  },
  {
   "cell_type": "code",
   "execution_count": 13,
   "outputs": [],
   "source": [
    "dataset, features = read_dataset(data_dir, classes, file_pattern, standard_shape)\n",
    "train_df = dataset.sample(frac=0.85, random_state=18)\n",
    "test_df = dataset.drop(train_df.index)\n"
   ],
   "metadata": {
    "collapsed": false,
    "pycharm": {
     "name": "#%%\n"
    }
   }
  },
  {
   "cell_type": "code",
   "execution_count": 14,
   "outputs": [
    {
     "data": {
      "text/plain": "    1:1:1  1:1:2  1:1:3  1:2:1  1:2:2  1:2:3  1:3:1  1:3:2  1:3:3  1:4:1  ...  \\\n36   36.0   72.0   72.0   39.0   75.0   75.0   42.0   78.0   78.0   44.0  ...   \n26  165.0  187.0  114.0  176.0  202.0  137.0  152.0  186.0  136.0   89.0  ...   \n28  228.0  213.0  154.0  228.0  216.0  156.0  230.0  222.0  160.0  231.0  ...   \n37  152.0  180.0  121.0  149.0  177.0  118.0  148.0  173.0  115.0  148.0  ...   \n16  131.0  150.0  104.0  117.0  139.0   90.0  119.0  144.0   89.0  128.0  ...   \n\n    50:48:1  50:48:2  50:48:3  50:49:1  50:49:2  50:49:3  50:50:1  50:50:2  \\\n36     39.0     74.0     76.0     43.0     78.0     80.0     41.0     76.0   \n26    142.0    185.0    105.0    134.0    172.0     99.0    115.0    153.0   \n28    250.0    249.0    218.0    251.0    249.0    226.0    251.0    249.0   \n37     54.0     86.0     85.0     56.0     88.0     87.0     56.0     88.0   \n16    129.0    169.0     98.0    129.0    166.0     99.0    129.0    166.0   \n\n    50:50:3  class  \n36     78.0  water  \n26     80.0   town  \n28    226.0   town  \n37     87.0  water  \n16     99.0   road  \n\n[5 rows x 7501 columns]",
      "text/html": "<div>\n<style scoped>\n    .dataframe tbody tr th:only-of-type {\n        vertical-align: middle;\n    }\n\n    .dataframe tbody tr th {\n        vertical-align: top;\n    }\n\n    .dataframe thead th {\n        text-align: right;\n    }\n</style>\n<table border=\"1\" class=\"dataframe\">\n  <thead>\n    <tr style=\"text-align: right;\">\n      <th></th>\n      <th>1:1:1</th>\n      <th>1:1:2</th>\n      <th>1:1:3</th>\n      <th>1:2:1</th>\n      <th>1:2:2</th>\n      <th>1:2:3</th>\n      <th>1:3:1</th>\n      <th>1:3:2</th>\n      <th>1:3:3</th>\n      <th>1:4:1</th>\n      <th>...</th>\n      <th>50:48:1</th>\n      <th>50:48:2</th>\n      <th>50:48:3</th>\n      <th>50:49:1</th>\n      <th>50:49:2</th>\n      <th>50:49:3</th>\n      <th>50:50:1</th>\n      <th>50:50:2</th>\n      <th>50:50:3</th>\n      <th>class</th>\n    </tr>\n  </thead>\n  <tbody>\n    <tr>\n      <th>36</th>\n      <td>36.0</td>\n      <td>72.0</td>\n      <td>72.0</td>\n      <td>39.0</td>\n      <td>75.0</td>\n      <td>75.0</td>\n      <td>42.0</td>\n      <td>78.0</td>\n      <td>78.0</td>\n      <td>44.0</td>\n      <td>...</td>\n      <td>39.0</td>\n      <td>74.0</td>\n      <td>76.0</td>\n      <td>43.0</td>\n      <td>78.0</td>\n      <td>80.0</td>\n      <td>41.0</td>\n      <td>76.0</td>\n      <td>78.0</td>\n      <td>water</td>\n    </tr>\n    <tr>\n      <th>26</th>\n      <td>165.0</td>\n      <td>187.0</td>\n      <td>114.0</td>\n      <td>176.0</td>\n      <td>202.0</td>\n      <td>137.0</td>\n      <td>152.0</td>\n      <td>186.0</td>\n      <td>136.0</td>\n      <td>89.0</td>\n      <td>...</td>\n      <td>142.0</td>\n      <td>185.0</td>\n      <td>105.0</td>\n      <td>134.0</td>\n      <td>172.0</td>\n      <td>99.0</td>\n      <td>115.0</td>\n      <td>153.0</td>\n      <td>80.0</td>\n      <td>town</td>\n    </tr>\n    <tr>\n      <th>28</th>\n      <td>228.0</td>\n      <td>213.0</td>\n      <td>154.0</td>\n      <td>228.0</td>\n      <td>216.0</td>\n      <td>156.0</td>\n      <td>230.0</td>\n      <td>222.0</td>\n      <td>160.0</td>\n      <td>231.0</td>\n      <td>...</td>\n      <td>250.0</td>\n      <td>249.0</td>\n      <td>218.0</td>\n      <td>251.0</td>\n      <td>249.0</td>\n      <td>226.0</td>\n      <td>251.0</td>\n      <td>249.0</td>\n      <td>226.0</td>\n      <td>town</td>\n    </tr>\n    <tr>\n      <th>37</th>\n      <td>152.0</td>\n      <td>180.0</td>\n      <td>121.0</td>\n      <td>149.0</td>\n      <td>177.0</td>\n      <td>118.0</td>\n      <td>148.0</td>\n      <td>173.0</td>\n      <td>115.0</td>\n      <td>148.0</td>\n      <td>...</td>\n      <td>54.0</td>\n      <td>86.0</td>\n      <td>85.0</td>\n      <td>56.0</td>\n      <td>88.0</td>\n      <td>87.0</td>\n      <td>56.0</td>\n      <td>88.0</td>\n      <td>87.0</td>\n      <td>water</td>\n    </tr>\n    <tr>\n      <th>16</th>\n      <td>131.0</td>\n      <td>150.0</td>\n      <td>104.0</td>\n      <td>117.0</td>\n      <td>139.0</td>\n      <td>90.0</td>\n      <td>119.0</td>\n      <td>144.0</td>\n      <td>89.0</td>\n      <td>128.0</td>\n      <td>...</td>\n      <td>129.0</td>\n      <td>169.0</td>\n      <td>98.0</td>\n      <td>129.0</td>\n      <td>166.0</td>\n      <td>99.0</td>\n      <td>129.0</td>\n      <td>166.0</td>\n      <td>99.0</td>\n      <td>road</td>\n    </tr>\n  </tbody>\n</table>\n<p>5 rows × 7501 columns</p>\n</div>"
     },
     "execution_count": 14,
     "metadata": {},
     "output_type": "execute_result"
    }
   ],
   "source": [
    "train_df.head()"
   ],
   "metadata": {
    "collapsed": false,
    "pycharm": {
     "name": "#%%\n"
    }
   }
  },
  {
   "cell_type": "code",
   "execution_count": 15,
   "outputs": [
    {
     "data": {
      "text/plain": "    1:1:1  1:1:2  1:1:3  1:2:1  1:2:2  1:2:3  1:3:1  1:3:2  1:3:3  1:4:1  ...  \\\n2   187.0  208.0  133.0  184.0  205.0  130.0  181.0  202.0  127.0  180.0  ...   \n5   196.0  207.0  131.0  194.0  205.0  129.0  190.0  200.0  127.0  186.0  ...   \n8   137.0  171.0   87.0  139.0  173.0   89.0  141.0  175.0   91.0  143.0  ...   \n19  204.0  216.0  142.0  197.0  208.0  130.0  190.0  202.0  120.0  187.0  ...   \n24  201.0  201.0  129.0  202.0  201.0  134.0  203.0  201.0  140.0  209.0  ...   \n\n    50:48:1  50:48:2  50:48:3  50:49:1  50:49:2  50:49:3  50:50:1  50:50:2  \\\n2     145.0    179.0     92.0    143.0    179.0     92.0    143.0    179.0   \n5     174.0    186.0    114.0    174.0    192.0    116.0    174.0    192.0   \n8     150.0    184.0    107.0    149.0    183.0    109.0    148.0    182.0   \n19    178.0    188.0    101.0    166.0    189.0    101.0    165.0    188.0   \n24    207.0    199.0    162.0    205.0    209.0    150.0    207.0    211.0   \n\n    50:50:3  class  \n2      92.0  field  \n5     116.0  field  \n8     108.0  field  \n19    100.0   road  \n24    152.0   town  \n\n[5 rows x 7501 columns]",
      "text/html": "<div>\n<style scoped>\n    .dataframe tbody tr th:only-of-type {\n        vertical-align: middle;\n    }\n\n    .dataframe tbody tr th {\n        vertical-align: top;\n    }\n\n    .dataframe thead th {\n        text-align: right;\n    }\n</style>\n<table border=\"1\" class=\"dataframe\">\n  <thead>\n    <tr style=\"text-align: right;\">\n      <th></th>\n      <th>1:1:1</th>\n      <th>1:1:2</th>\n      <th>1:1:3</th>\n      <th>1:2:1</th>\n      <th>1:2:2</th>\n      <th>1:2:3</th>\n      <th>1:3:1</th>\n      <th>1:3:2</th>\n      <th>1:3:3</th>\n      <th>1:4:1</th>\n      <th>...</th>\n      <th>50:48:1</th>\n      <th>50:48:2</th>\n      <th>50:48:3</th>\n      <th>50:49:1</th>\n      <th>50:49:2</th>\n      <th>50:49:3</th>\n      <th>50:50:1</th>\n      <th>50:50:2</th>\n      <th>50:50:3</th>\n      <th>class</th>\n    </tr>\n  </thead>\n  <tbody>\n    <tr>\n      <th>2</th>\n      <td>187.0</td>\n      <td>208.0</td>\n      <td>133.0</td>\n      <td>184.0</td>\n      <td>205.0</td>\n      <td>130.0</td>\n      <td>181.0</td>\n      <td>202.0</td>\n      <td>127.0</td>\n      <td>180.0</td>\n      <td>...</td>\n      <td>145.0</td>\n      <td>179.0</td>\n      <td>92.0</td>\n      <td>143.0</td>\n      <td>179.0</td>\n      <td>92.0</td>\n      <td>143.0</td>\n      <td>179.0</td>\n      <td>92.0</td>\n      <td>field</td>\n    </tr>\n    <tr>\n      <th>5</th>\n      <td>196.0</td>\n      <td>207.0</td>\n      <td>131.0</td>\n      <td>194.0</td>\n      <td>205.0</td>\n      <td>129.0</td>\n      <td>190.0</td>\n      <td>200.0</td>\n      <td>127.0</td>\n      <td>186.0</td>\n      <td>...</td>\n      <td>174.0</td>\n      <td>186.0</td>\n      <td>114.0</td>\n      <td>174.0</td>\n      <td>192.0</td>\n      <td>116.0</td>\n      <td>174.0</td>\n      <td>192.0</td>\n      <td>116.0</td>\n      <td>field</td>\n    </tr>\n    <tr>\n      <th>8</th>\n      <td>137.0</td>\n      <td>171.0</td>\n      <td>87.0</td>\n      <td>139.0</td>\n      <td>173.0</td>\n      <td>89.0</td>\n      <td>141.0</td>\n      <td>175.0</td>\n      <td>91.0</td>\n      <td>143.0</td>\n      <td>...</td>\n      <td>150.0</td>\n      <td>184.0</td>\n      <td>107.0</td>\n      <td>149.0</td>\n      <td>183.0</td>\n      <td>109.0</td>\n      <td>148.0</td>\n      <td>182.0</td>\n      <td>108.0</td>\n      <td>field</td>\n    </tr>\n    <tr>\n      <th>19</th>\n      <td>204.0</td>\n      <td>216.0</td>\n      <td>142.0</td>\n      <td>197.0</td>\n      <td>208.0</td>\n      <td>130.0</td>\n      <td>190.0</td>\n      <td>202.0</td>\n      <td>120.0</td>\n      <td>187.0</td>\n      <td>...</td>\n      <td>178.0</td>\n      <td>188.0</td>\n      <td>101.0</td>\n      <td>166.0</td>\n      <td>189.0</td>\n      <td>101.0</td>\n      <td>165.0</td>\n      <td>188.0</td>\n      <td>100.0</td>\n      <td>road</td>\n    </tr>\n    <tr>\n      <th>24</th>\n      <td>201.0</td>\n      <td>201.0</td>\n      <td>129.0</td>\n      <td>202.0</td>\n      <td>201.0</td>\n      <td>134.0</td>\n      <td>203.0</td>\n      <td>201.0</td>\n      <td>140.0</td>\n      <td>209.0</td>\n      <td>...</td>\n      <td>207.0</td>\n      <td>199.0</td>\n      <td>162.0</td>\n      <td>205.0</td>\n      <td>209.0</td>\n      <td>150.0</td>\n      <td>207.0</td>\n      <td>211.0</td>\n      <td>152.0</td>\n      <td>town</td>\n    </tr>\n  </tbody>\n</table>\n<p>5 rows × 7501 columns</p>\n</div>"
     },
     "execution_count": 15,
     "metadata": {},
     "output_type": "execute_result"
    }
   ],
   "source": [
    "test_df.head()"
   ],
   "metadata": {
    "collapsed": false,
    "pycharm": {
     "name": "#%%\n"
    }
   }
  },
  {
   "cell_type": "code",
   "execution_count": 16,
   "outputs": [
    {
     "data": {
      "text/plain": "['field', 'field', 'field', 'road', 'town', 'water', 'water']"
     },
     "execution_count": 16,
     "metadata": {},
     "output_type": "execute_result"
    }
   ],
   "source": [
    "model = Classifier()\n",
    "model.fit(train_df, features, \"class\")\n",
    "predicted_classes = model.predict(test_df)\n",
    "predicted_classes"
   ],
   "metadata": {
    "collapsed": false,
    "pycharm": {
     "name": "#%%\n"
    }
   }
  },
  {
   "cell_type": "code",
   "execution_count": 17,
   "outputs": [
    {
     "name": "stdout",
     "output_type": "stream",
     "text": [
      "The accuracy score is 100.0 %\n"
     ]
    }
   ],
   "source": [
    "real_classes = test_df[\"class\"].values\n",
    "acc = accuracy_score(test_df[\"class\"], predicted_classes)\n",
    "print(f\"The accuracy score is {acc * 100} %\")"
   ],
   "metadata": {
    "collapsed": false,
    "pycharm": {
     "name": "#%%\n"
    }
   }
  },
  {
   "cell_type": "code",
   "execution_count": 22,
   "outputs": [
    {
     "name": "stdout",
     "output_type": "stream",
     "text": [
      "100.0% accuracy score with 3900 features\n",
      "100.0% accuracy score with 3800 features\n",
      "100.0% accuracy score with 3700 features\n",
      "100.0% accuracy score with 3600 features\n",
      "100.0% accuracy score with 3500 features\n",
      "100.0% accuracy score with 3400 features\n",
      "100.0% accuracy score with 3300 features\n",
      "100.0% accuracy score with 3200 features\n",
      "100.0% accuracy score with 3100 features\n",
      "100.0% accuracy score with 3000 features\n",
      "100.0% accuracy score with 2900 features\n",
      "100.0% accuracy score with 2800 features\n",
      "100.0% accuracy score with 2700 features\n",
      "100.0% accuracy score with 2600 features\n",
      "100.0% accuracy score with 2500 features\n",
      "85.7% accuracy score with 2400 features\n",
      "85.7% accuracy score with 2300 features\n",
      "85.7% accuracy score with 2200 features\n",
      "85.7% accuracy score with 2100 features\n",
      "85.7% accuracy score with 2000 features\n",
      "85.7% accuracy score with 1900 features\n",
      "85.7% accuracy score with 1800 features\n",
      "85.7% accuracy score with 1700 features\n",
      "71.39999999999999% accuracy score with 1600 features\n",
      "71.39999999999999% accuracy score with 1500 features\n",
      "71.39999999999999% accuracy score with 1400 features\n",
      "71.39999999999999% accuracy score with 1300 features\n",
      "71.39999999999999% accuracy score with 1200 features\n",
      "71.39999999999999% accuracy score with 1100 features\n",
      "71.39999999999999% accuracy score with 1000 features\n",
      "71.39999999999999% accuracy score with 900 features\n",
      "71.39999999999999% accuracy score with 800 features\n",
      "71.39999999999999% accuracy score with 700 features\n",
      "57.099999999999994% accuracy score with 600 features\n",
      "57.099999999999994% accuracy score with 500 features\n",
      "42.9% accuracy score with 400 features\n",
      "42.9% accuracy score with 300 features\n",
      "42.9% accuracy score with 200 features\n"
     ]
    }
   ],
   "source": [
    "for i in range(3900, 100, -100):\n",
    "    local_features_to_use = features[:i]\n",
    "    model.fit(train_df, local_features_to_use, \"class\")\n",
    "    local_predicted_classes = model.predict(test_df)\n",
    "    local_acc = round(accuracy_score(real_classes, local_predicted_classes), 3)\n",
    "    print(f\"{local_acc * 100}% accuracy score with {len(local_features_to_use)} features\")\n"
   ],
   "metadata": {
    "collapsed": false,
    "pycharm": {
     "name": "#%%\n"
    }
   }
  }
 ],
 "metadata": {
  "kernelspec": {
   "display_name": "Python 3",
   "language": "python",
   "name": "python3"
  },
  "language_info": {
   "codemirror_mode": {
    "name": "ipython",
    "version": 2
   },
   "file_extension": ".py",
   "mimetype": "text/x-python",
   "name": "python",
   "nbconvert_exporter": "python",
   "pygments_lexer": "ipython2",
   "version": "2.7.6"
  }
 },
 "nbformat": 4,
 "nbformat_minor": 0
}