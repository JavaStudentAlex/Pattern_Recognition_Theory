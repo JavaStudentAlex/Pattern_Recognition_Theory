{
 "cells": [
  {
   "cell_type": "markdown",
   "metadata": {
    "collapsed": true,
    "pycharm": {
     "name": "#%% md\n"
    }
   },
   "source": [
    "# Код реалізації завдання 2\n",
    "Import libraries\n"
   ]
  },
  {
   "cell_type": "code",
   "execution_count": 11,
   "metadata": {
    "pycharm": {
     "name": "#%%\n"
    }
   },
   "outputs": [],
   "source": [
    "import numpy as np\n",
    "from math import sqrt\n",
    "import pandas as pd\n",
    "from sklearn.metrics import accuracy_score\n",
    "import matplotlib.pyplot as plt\n",
    "from IPython.display import Image\n",
    "\n",
    "from labs.helpers import read_dataset"
   ]
  },
  {
   "cell_type": "markdown",
   "metadata": {
    "pycharm": {
     "name": "#%% md\n"
    }
   },
   "source": [
    "Prepare to load data"
   ]
  },
  {
   "cell_type": "code",
   "execution_count": 2,
   "metadata": {
    "pycharm": {
     "name": "#%%\n"
    }
   },
   "outputs": [],
   "source": [
    "data_dir = \"../../data/train\"\n",
    "classes = [\"field\", \"road\", \"town\", \"water\"]\n",
    "file_pattern = \"*{}*.jpg\"\n",
    "standard_shape = (50, 50, 3)"
   ]
  },
  {
   "cell_type": "markdown",
   "metadata": {},
   "source": [
    "Load data and split it to train and test datasets"
   ]
  },
  {
   "cell_type": "code",
   "execution_count": 3,
   "metadata": {
    "pycharm": {
     "name": "#%%\n"
    }
   },
   "outputs": [],
   "source": [
    "dataset, features = read_dataset(data_dir, classes, file_pattern, standard_shape)\n",
    "train_df = dataset.sample(frac=0.85, random_state=18)\n",
    "test_df = dataset.drop(train_df.index)"
   ]
  },
  {
   "cell_type": "markdown",
   "metadata": {},
   "source": [
    "Demonstrate datasets"
   ]
  },
  {
   "cell_type": "code",
   "execution_count": 4,
   "metadata": {
    "pycharm": {
     "name": "#%%\n"
    }
   },
   "outputs": [
    {
     "data": {
      "text/plain": "    1:1:1  1:1:2  1:1:3  1:2:1  1:2:2  1:2:3  1:3:1  1:3:2  1:3:3  1:4:1  ...  \\\n36   36.0   72.0   72.0   39.0   75.0   75.0   42.0   78.0   78.0   44.0  ...   \n26  165.0  187.0  114.0  176.0  202.0  137.0  152.0  186.0  136.0   89.0  ...   \n28  228.0  213.0  154.0  228.0  216.0  156.0  230.0  222.0  160.0  231.0  ...   \n37  152.0  180.0  121.0  149.0  177.0  118.0  148.0  173.0  115.0  148.0  ...   \n16  131.0  150.0  104.0  117.0  139.0   90.0  119.0  144.0   89.0  128.0  ...   \n\n    50:48:1  50:48:2  50:48:3  50:49:1  50:49:2  50:49:3  50:50:1  50:50:2  \\\n36     39.0     74.0     76.0     43.0     78.0     80.0     41.0     76.0   \n26    142.0    185.0    105.0    134.0    172.0     99.0    115.0    153.0   \n28    250.0    249.0    218.0    251.0    249.0    226.0    251.0    249.0   \n37     54.0     86.0     85.0     56.0     88.0     87.0     56.0     88.0   \n16    129.0    169.0     98.0    129.0    166.0     99.0    129.0    166.0   \n\n    50:50:3  class  \n36     78.0  water  \n26     80.0   town  \n28    226.0   town  \n37     87.0  water  \n16     99.0   road  \n\n[5 rows x 7501 columns]",
      "text/html": "<div>\n<style scoped>\n    .dataframe tbody tr th:only-of-type {\n        vertical-align: middle;\n    }\n\n    .dataframe tbody tr th {\n        vertical-align: top;\n    }\n\n    .dataframe thead th {\n        text-align: right;\n    }\n</style>\n<table border=\"1\" class=\"dataframe\">\n  <thead>\n    <tr style=\"text-align: right;\">\n      <th></th>\n      <th>1:1:1</th>\n      <th>1:1:2</th>\n      <th>1:1:3</th>\n      <th>1:2:1</th>\n      <th>1:2:2</th>\n      <th>1:2:3</th>\n      <th>1:3:1</th>\n      <th>1:3:2</th>\n      <th>1:3:3</th>\n      <th>1:4:1</th>\n      <th>...</th>\n      <th>50:48:1</th>\n      <th>50:48:2</th>\n      <th>50:48:3</th>\n      <th>50:49:1</th>\n      <th>50:49:2</th>\n      <th>50:49:3</th>\n      <th>50:50:1</th>\n      <th>50:50:2</th>\n      <th>50:50:3</th>\n      <th>class</th>\n    </tr>\n  </thead>\n  <tbody>\n    <tr>\n      <th>36</th>\n      <td>36.0</td>\n      <td>72.0</td>\n      <td>72.0</td>\n      <td>39.0</td>\n      <td>75.0</td>\n      <td>75.0</td>\n      <td>42.0</td>\n      <td>78.0</td>\n      <td>78.0</td>\n      <td>44.0</td>\n      <td>...</td>\n      <td>39.0</td>\n      <td>74.0</td>\n      <td>76.0</td>\n      <td>43.0</td>\n      <td>78.0</td>\n      <td>80.0</td>\n      <td>41.0</td>\n      <td>76.0</td>\n      <td>78.0</td>\n      <td>water</td>\n    </tr>\n    <tr>\n      <th>26</th>\n      <td>165.0</td>\n      <td>187.0</td>\n      <td>114.0</td>\n      <td>176.0</td>\n      <td>202.0</td>\n      <td>137.0</td>\n      <td>152.0</td>\n      <td>186.0</td>\n      <td>136.0</td>\n      <td>89.0</td>\n      <td>...</td>\n      <td>142.0</td>\n      <td>185.0</td>\n      <td>105.0</td>\n      <td>134.0</td>\n      <td>172.0</td>\n      <td>99.0</td>\n      <td>115.0</td>\n      <td>153.0</td>\n      <td>80.0</td>\n      <td>town</td>\n    </tr>\n    <tr>\n      <th>28</th>\n      <td>228.0</td>\n      <td>213.0</td>\n      <td>154.0</td>\n      <td>228.0</td>\n      <td>216.0</td>\n      <td>156.0</td>\n      <td>230.0</td>\n      <td>222.0</td>\n      <td>160.0</td>\n      <td>231.0</td>\n      <td>...</td>\n      <td>250.0</td>\n      <td>249.0</td>\n      <td>218.0</td>\n      <td>251.0</td>\n      <td>249.0</td>\n      <td>226.0</td>\n      <td>251.0</td>\n      <td>249.0</td>\n      <td>226.0</td>\n      <td>town</td>\n    </tr>\n    <tr>\n      <th>37</th>\n      <td>152.0</td>\n      <td>180.0</td>\n      <td>121.0</td>\n      <td>149.0</td>\n      <td>177.0</td>\n      <td>118.0</td>\n      <td>148.0</td>\n      <td>173.0</td>\n      <td>115.0</td>\n      <td>148.0</td>\n      <td>...</td>\n      <td>54.0</td>\n      <td>86.0</td>\n      <td>85.0</td>\n      <td>56.0</td>\n      <td>88.0</td>\n      <td>87.0</td>\n      <td>56.0</td>\n      <td>88.0</td>\n      <td>87.0</td>\n      <td>water</td>\n    </tr>\n    <tr>\n      <th>16</th>\n      <td>131.0</td>\n      <td>150.0</td>\n      <td>104.0</td>\n      <td>117.0</td>\n      <td>139.0</td>\n      <td>90.0</td>\n      <td>119.0</td>\n      <td>144.0</td>\n      <td>89.0</td>\n      <td>128.0</td>\n      <td>...</td>\n      <td>129.0</td>\n      <td>169.0</td>\n      <td>98.0</td>\n      <td>129.0</td>\n      <td>166.0</td>\n      <td>99.0</td>\n      <td>129.0</td>\n      <td>166.0</td>\n      <td>99.0</td>\n      <td>road</td>\n    </tr>\n  </tbody>\n</table>\n<p>5 rows × 7501 columns</p>\n</div>"
     },
     "execution_count": 4,
     "metadata": {},
     "output_type": "execute_result"
    }
   ],
   "source": [
    "train_df.head()"
   ]
  },
  {
   "cell_type": "code",
   "execution_count": 5,
   "metadata": {
    "pycharm": {
     "name": "#%%\n"
    }
   },
   "outputs": [
    {
     "data": {
      "text/plain": "    1:1:1  1:1:2  1:1:3  1:2:1  1:2:2  1:2:3  1:3:1  1:3:2  1:3:3  1:4:1  ...  \\\n2   187.0  208.0  133.0  184.0  205.0  130.0  181.0  202.0  127.0  180.0  ...   \n5   196.0  207.0  131.0  194.0  205.0  129.0  190.0  200.0  127.0  186.0  ...   \n8   137.0  171.0   87.0  139.0  173.0   89.0  141.0  175.0   91.0  143.0  ...   \n19  204.0  216.0  142.0  197.0  208.0  130.0  190.0  202.0  120.0  187.0  ...   \n24  201.0  201.0  129.0  202.0  201.0  134.0  203.0  201.0  140.0  209.0  ...   \n\n    50:48:1  50:48:2  50:48:3  50:49:1  50:49:2  50:49:3  50:50:1  50:50:2  \\\n2     145.0    179.0     92.0    143.0    179.0     92.0    143.0    179.0   \n5     174.0    186.0    114.0    174.0    192.0    116.0    174.0    192.0   \n8     150.0    184.0    107.0    149.0    183.0    109.0    148.0    182.0   \n19    178.0    188.0    101.0    166.0    189.0    101.0    165.0    188.0   \n24    207.0    199.0    162.0    205.0    209.0    150.0    207.0    211.0   \n\n    50:50:3  class  \n2      92.0  field  \n5     116.0  field  \n8     108.0  field  \n19    100.0   road  \n24    152.0   town  \n\n[5 rows x 7501 columns]",
      "text/html": "<div>\n<style scoped>\n    .dataframe tbody tr th:only-of-type {\n        vertical-align: middle;\n    }\n\n    .dataframe tbody tr th {\n        vertical-align: top;\n    }\n\n    .dataframe thead th {\n        text-align: right;\n    }\n</style>\n<table border=\"1\" class=\"dataframe\">\n  <thead>\n    <tr style=\"text-align: right;\">\n      <th></th>\n      <th>1:1:1</th>\n      <th>1:1:2</th>\n      <th>1:1:3</th>\n      <th>1:2:1</th>\n      <th>1:2:2</th>\n      <th>1:2:3</th>\n      <th>1:3:1</th>\n      <th>1:3:2</th>\n      <th>1:3:3</th>\n      <th>1:4:1</th>\n      <th>...</th>\n      <th>50:48:1</th>\n      <th>50:48:2</th>\n      <th>50:48:3</th>\n      <th>50:49:1</th>\n      <th>50:49:2</th>\n      <th>50:49:3</th>\n      <th>50:50:1</th>\n      <th>50:50:2</th>\n      <th>50:50:3</th>\n      <th>class</th>\n    </tr>\n  </thead>\n  <tbody>\n    <tr>\n      <th>2</th>\n      <td>187.0</td>\n      <td>208.0</td>\n      <td>133.0</td>\n      <td>184.0</td>\n      <td>205.0</td>\n      <td>130.0</td>\n      <td>181.0</td>\n      <td>202.0</td>\n      <td>127.0</td>\n      <td>180.0</td>\n      <td>...</td>\n      <td>145.0</td>\n      <td>179.0</td>\n      <td>92.0</td>\n      <td>143.0</td>\n      <td>179.0</td>\n      <td>92.0</td>\n      <td>143.0</td>\n      <td>179.0</td>\n      <td>92.0</td>\n      <td>field</td>\n    </tr>\n    <tr>\n      <th>5</th>\n      <td>196.0</td>\n      <td>207.0</td>\n      <td>131.0</td>\n      <td>194.0</td>\n      <td>205.0</td>\n      <td>129.0</td>\n      <td>190.0</td>\n      <td>200.0</td>\n      <td>127.0</td>\n      <td>186.0</td>\n      <td>...</td>\n      <td>174.0</td>\n      <td>186.0</td>\n      <td>114.0</td>\n      <td>174.0</td>\n      <td>192.0</td>\n      <td>116.0</td>\n      <td>174.0</td>\n      <td>192.0</td>\n      <td>116.0</td>\n      <td>field</td>\n    </tr>\n    <tr>\n      <th>8</th>\n      <td>137.0</td>\n      <td>171.0</td>\n      <td>87.0</td>\n      <td>139.0</td>\n      <td>173.0</td>\n      <td>89.0</td>\n      <td>141.0</td>\n      <td>175.0</td>\n      <td>91.0</td>\n      <td>143.0</td>\n      <td>...</td>\n      <td>150.0</td>\n      <td>184.0</td>\n      <td>107.0</td>\n      <td>149.0</td>\n      <td>183.0</td>\n      <td>109.0</td>\n      <td>148.0</td>\n      <td>182.0</td>\n      <td>108.0</td>\n      <td>field</td>\n    </tr>\n    <tr>\n      <th>19</th>\n      <td>204.0</td>\n      <td>216.0</td>\n      <td>142.0</td>\n      <td>197.0</td>\n      <td>208.0</td>\n      <td>130.0</td>\n      <td>190.0</td>\n      <td>202.0</td>\n      <td>120.0</td>\n      <td>187.0</td>\n      <td>...</td>\n      <td>178.0</td>\n      <td>188.0</td>\n      <td>101.0</td>\n      <td>166.0</td>\n      <td>189.0</td>\n      <td>101.0</td>\n      <td>165.0</td>\n      <td>188.0</td>\n      <td>100.0</td>\n      <td>road</td>\n    </tr>\n    <tr>\n      <th>24</th>\n      <td>201.0</td>\n      <td>201.0</td>\n      <td>129.0</td>\n      <td>202.0</td>\n      <td>201.0</td>\n      <td>134.0</td>\n      <td>203.0</td>\n      <td>201.0</td>\n      <td>140.0</td>\n      <td>209.0</td>\n      <td>...</td>\n      <td>207.0</td>\n      <td>199.0</td>\n      <td>162.0</td>\n      <td>205.0</td>\n      <td>209.0</td>\n      <td>150.0</td>\n      <td>207.0</td>\n      <td>211.0</td>\n      <td>152.0</td>\n      <td>town</td>\n    </tr>\n  </tbody>\n</table>\n<p>5 rows × 7501 columns</p>\n</div>"
     },
     "execution_count": 5,
     "metadata": {},
     "output_type": "execute_result"
    }
   ],
   "source": [
    "test_df.head()"
   ]
  },
  {
   "cell_type": "markdown",
   "metadata": {},
   "source": [
    "Python class that realizes learning and prediction operations"
   ]
  },
  {
   "cell_type": "code",
   "execution_count": 6,
   "metadata": {
    "pycharm": {
     "name": "#%%\n"
    }
   },
   "outputs": [],
   "source": [
    "class Classifier:\n",
    "\n",
    "    head = None\n",
    "    __features = None\n",
    "    __classes_centers = None\n",
    "    __radius = None\n",
    "    __next_level_predictor = None\n",
    "\n",
    "    def __init__(self, head=True):\n",
    "        self.head = head\n",
    "\n",
    "    def fit(self, df, train_features, class_target, depth=5):\n",
    "        self.__features = train_features\n",
    "        self.__classes_centers = df.groupby(by=class_target).mean()[train_features]\n",
    "        self.__radius = self.__calc_classes_radius(df, class_target)\n",
    "        self.__next_level_predictor = self.__build_next_level_predict_action(df, class_target, depth)\n",
    "\n",
    "    def __calc_classes_radius(self, df, class_target):\n",
    "        radius = {}\n",
    "        for class_name in self.__classes_centers.index:\n",
    "            distances = []\n",
    "            class_center = self.__classes_centers.loc[class_name].values\n",
    "            class_df = df[df[class_target] == class_name]\n",
    "            for measure_idx in class_df.index:\n",
    "                measure = class_df.loc[measure_idx, self.__features].values\n",
    "                measure_evclid_distance = self.__calc_evclid_distance(class_center, measure)\n",
    "                distances.append(measure_evclid_distance)\n",
    "            radius[class_name] = max(distances)\n",
    "        return pd.DataFrame.from_dict(radius, orient=\"index\", columns=[\"Radius\"])\n",
    "\n",
    "    def __build_next_level_predict_action(self, df, class_target, depth):\n",
    "        uncertain_measures = self.__define_uncertain_measures(df)\n",
    "        if depth != 0 and len(uncertain_measures) != 0:\n",
    "            next_level_model = Classifier(head=False)\n",
    "            next_level_model.fit(uncertain_measures, self.__features, class_target, depth - 1)\n",
    "            return next_level_model.predict_class\n",
    "\n",
    "    def __define_uncertain_measures(self, df):\n",
    "        uncertain_measures_idxs = list()\n",
    "        for measure_idx in df.index:\n",
    "            measure = df.loc[measure_idx, self.__features].values\n",
    "            measure_classes = self.__measure_belong_to_classes(measure)\n",
    "            if len(measure_classes) > 1:\n",
    "                uncertain_measures_idxs.append(measure_idx)\n",
    "        return df.loc[uncertain_measures_idxs]\n",
    "\n",
    "    def __measure_belong_to_classes(self, measure):\n",
    "        owner_classes = list()\n",
    "        for class_name in self.__classes_centers.index:\n",
    "            class_center = self.__classes_centers.loc[class_name, self.__features].values\n",
    "            evclid_dist = self.__calc_evclid_distance(measure, class_center)\n",
    "            class_radius = self.__radius.loc[class_name, \"Radius\"]\n",
    "            if evclid_dist < class_radius:\n",
    "                owner_classes.append(class_name)\n",
    "        return owner_classes\n",
    "\n",
    "    @staticmethod\n",
    "    def __calc_evclid_distance(measure1, measure2):\n",
    "        difference = measure1 - measure2\n",
    "        squared_diff = np.square(difference)\n",
    "        sum_of_squared_diff = np.sum(squared_diff)\n",
    "        return sqrt(sum_of_squared_diff)\n",
    "\n",
    "    def predict(self, df):\n",
    "\n",
    "        def iterate_test_df(measure_df):\n",
    "            measure = measure_df.values\n",
    "            return self.predict_class(measure)\n",
    "\n",
    "        result = df[self.__features].apply(iterate_test_df, axis=1)\n",
    "        return result\n",
    "\n",
    "    def predict_class(self, measure):\n",
    "        defined_classes = self.__measure_belong_to_classes(measure)\n",
    "        defined_clases_number = len(defined_classes)\n",
    "        if defined_clases_number == 1:\n",
    "            return defined_classes[0]\n",
    "        elif not self.__next_level_predictor is None:\n",
    "            defined_class = self.__next_level_predictor(measure)\n",
    "            if defined_class is None and self.head:\n",
    "                return self.__predict_class_by_standard_method(measure)\n",
    "            else:\n",
    "                return defined_class\n",
    "        elif not self.head:\n",
    "            return None\n",
    "        else:\n",
    "            return self.__predict_class_by_standard_method(measure)\n",
    "\n",
    "    def __predict_class_by_standard_method(self, measure):\n",
    "        distances_to_classes = []\n",
    "        for class_name in self.__classes_centers.index:\n",
    "            class_standard = self.__classes_centers.loc[class_name].values\n",
    "            evclid_dst = self.__calc_evclid_distance(measure, class_standard)\n",
    "            distances_to_classes.append(evclid_dst)\n",
    "        best_class_index = np.argmin(distances_to_classes)\n",
    "        return self.__classes_centers.index[best_class_index]"
   ]
  },
  {
   "cell_type": "markdown",
   "metadata": {},
   "source": [
    "Train the model and predict classes for test data"
   ]
  },
  {
   "cell_type": "code",
   "execution_count": 7,
   "metadata": {
    "pycharm": {
     "name": "#%%\n"
    }
   },
   "outputs": [],
   "source": [
    "model = Classifier()\n",
    "model.fit(train_df, features, \"class\")\n",
    "pred_y = model.predict(test_df)"
   ]
  },
  {
   "cell_type": "code",
   "execution_count": 8,
   "metadata": {
    "pycharm": {
     "name": "#%%\n"
    }
   },
   "outputs": [
    {
     "data": {
      "text/plain": "1.0"
     },
     "execution_count": 8,
     "metadata": {},
     "output_type": "execute_result"
    }
   ],
   "source": [
    "true_y = test_df[\"class\"]\n",
    "accuracy_score(true_y, pred_y)"
   ]
  },
  {
   "cell_type": "markdown",
   "metadata": {},
   "source": [
    "Dependency of accuracy from number of features"
   ]
  },
  {
   "cell_type": "code",
   "execution_count": 9,
   "metadata": {
    "pycharm": {
     "name": "#%%\n"
    }
   },
   "outputs": [
    {
     "data": {
      "text/plain": "Text(0, 0.5, 'Accuracy')"
     },
     "execution_count": 9,
     "metadata": {},
     "output_type": "execute_result"
    },
    {
     "data": {
      "text/plain": "<Figure size 432x288 with 1 Axes>",
      "image/png": "[encoded data removed]"
     },
     "metadata": {
      "needs_background": "light"
     },
     "output_type": "display_data"
    }
   ],
   "source": [
    "features_numbers = []\n",
    "accuracy_values = []\n",
    "for i in range(100, 7500, 100):\n",
    "    local_features_to_use = features[:i]\n",
    "    local_model = Classifier()\n",
    "    local_model.fit(train_df, local_features_to_use, \"class\")\n",
    "    local_predicted_classes = local_model.predict(test_df)\n",
    "    local_acc = round(accuracy_score(true_y, local_predicted_classes), 3)\n",
    "    features_numbers.append(i)\n",
    "    accuracy_values.append(local_acc)\n",
    "\n",
    "plt.plot(features_numbers, accuracy_values)\n",
    "plt.title(\"Dependency of accuracy from number of features\")\n",
    "plt.xlabel(\"Features_number\")\n",
    "plt.ylabel(\"Accuracy\")"
   ]
  },
  {
   "cell_type": "markdown",
   "metadata": {
    "pycharm": {
     "name": "#%% md\n"
    }
   },
   "source": [
    "Dependency of accuracy from number of classes"
   ]
  },
  {
   "cell_type": "code",
   "execution_count": 10,
   "metadata": {
    "pycharm": {
     "name": "#%%\n"
    }
   },
   "outputs": [
    {
     "data": {
      "text/plain": "Text(0, 0.5, 'Accuracy')"
     },
     "execution_count": 10,
     "metadata": {},
     "output_type": "execute_result"
    },
    {
     "data": {
      "text/plain": "<Figure size 432x288 with 1 Axes>",
      "image/png": "[encoded data removed]"
     },
     "metadata": {
      "needs_background": "light"
     },
     "output_type": "display_data"
    }
   ],
   "source": [
    "class_numbers = []\n",
    "accuracy_values = []\n",
    "\n",
    "for class_number in range(1, len(classes), 1):\n",
    "    local_classes = classes[:class_number]\n",
    "    local_dataset = dataset[dataset[\"class\"].isin(local_classes)]\n",
    "    local_train_df = local_dataset.sample(frac=0.85, random_state=18)\n",
    "    local_test_df = local_dataset.drop(local_train_df.index)\n",
    "    classes_local_model = Classifier()\n",
    "    classes_local_model.fit(local_train_df, features, \"class\")\n",
    "    local_predicted = classes_local_model.predict(local_test_df)\n",
    "    real = local_test_df[\"class\"].values\n",
    "    acc_val = accuracy_score(real, local_predicted)\n",
    "    class_numbers.append(class_number)\n",
    "    accuracy_values.append(acc_val)\n",
    "\n",
    "plt.plot(class_numbers, accuracy_values)\n",
    "plt.title(\"Dependency of accuracy from number of classes\")\n",
    "plt.xlabel(\"Number of classes\")\n",
    "plt.ylabel(\"Accuracy\")"
   ]
  },
  {
   "cell_type": "markdown",
   "source": [
    "Demonstrate some images"
   ],
   "metadata": {
    "collapsed": false
   }
  },
  {
   "cell_type": "code",
   "execution_count": 12,
   "outputs": [
    {
     "data": {
      "image/jpeg": "[encoded data removed]",
      "text/plain": "<IPython.core.display.Image object>"
     },
     "execution_count": 12,
     "metadata": {},
     "output_type": "execute_result"
    }
   ],
   "source": [
    "Image(filename=f\"{data_dir}/water.jpg\")"
   ],
   "metadata": {
    "collapsed": false,
    "pycharm": {
     "name": "#%%\n"
    }
   }
  },
  {
   "cell_type": "code",
   "execution_count": 13,
   "outputs": [
    {
     "data": {
      "image/jpeg": "[encoded data removed]",
      "text/plain": "<IPython.core.display.Image object>"
     },
     "execution_count": 13,
     "metadata": {},
     "output_type": "execute_result"
    }
   ],
   "source": [
    "Image(filename=f\"{data_dir}/town.jpg\")"
   ],
   "metadata": {
    "collapsed": false,
    "pycharm": {
     "name": "#%%\n"
    }
   }
  },
  {
   "cell_type": "code",
   "execution_count": 14,
   "outputs": [
    {
     "data": {
      "image/jpeg": "[encoded data removed]",
      "text/plain": "<IPython.core.display.Image object>"
     },
     "execution_count": 14,
     "metadata": {},
     "output_type": "execute_result"
    }
   ],
   "source": [
    "Image(filename=f\"{data_dir}/road.jpg\")"
   ],
   "metadata": {
    "collapsed": false,
    "pycharm": {
     "name": "#%%\n"
    }
   }
  },
  {
   "cell_type": "code",
   "execution_count": 15,
   "outputs": [
    {
     "data": {
      "image/jpeg": "[encoded data removed]",
      "text/plain": "<IPython.core.display.Image object>"
     },
     "execution_count": 15,
     "metadata": {},
     "output_type": "execute_result"
    }
   ],
   "source": [
    "Image(filename=f\"{data_dir}/field.jpg\")"
   ],
   "metadata": {
    "collapsed": false,
    "pycharm": {
     "name": "#%%\n"
    }
   }
  },
  {
   "cell_type": "markdown",
   "source": [
    "# Висновок\n",
    "\n",
    "У даній роботі були взяті чотири різні види зображення(вода, місто, поле та ліс). Ці дані були перетворені на вектори\n",
    "фіч та розподілені на вибірки для тренування та навчання. Для навчання використовувався метод еталонів, що дробляться із максимальною кількістю дроблень в 5 разів. Модель вказаного программного класу була навчена методом ```fit```. Для класифікації був використаний метод ```predict``` із вказаного программного класу. Модель показала точність 100%. Далі були проведені тести стосовно побудови моделей, що навчаються за різною кількістю ознак.\n",
    "Як видно із малюнку графіку точність у вказаному тесті коливається від 25 до 100 відсотків. Зі збільшенням кількості ознак збільшувалася і точність розпізнавання.\n",
    "Також був проведений тест із різною кількістю класів розпізнавання і за малюнком графіку було визнано, що зі зменшенням кількості класів точність класифікації підвищується до 100%.\n"
   ],
   "metadata": {
    "collapsed": false
   }
  }
 ],
 "metadata": {
  "kernelspec": {
   "display_name": "Python 3",
   "language": "python",
   "name": "python3"
  },
  "language_info": {
   "codemirror_mode": {
    "name": "ipython",
    "version": 3
   },
   "file_extension": ".py",
   "mimetype": "text/x-python",
   "name": "python",
   "nbconvert_exporter": "python",
   "pygments_lexer": "ipython3",
   "version": "3.8.6"
  }
 },
 "nbformat": 4,
 "nbformat_minor": 1
}