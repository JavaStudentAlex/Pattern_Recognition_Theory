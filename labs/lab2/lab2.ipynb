{
 "cells": [
  {
   "cell_type": "code",
   "execution_count": 21,
   "metadata": {
    "collapsed": true
   },
   "outputs": [],
   "source": [
    "import numpy as np\n",
    "from math import sqrt\n",
    "import pandas as pd\n",
    "from sklearn.metrics import accuracy_score\n",
    "\n",
    "from labs.helpers import read_dataset"
   ]
  },
  {
   "cell_type": "code",
   "execution_count": 22,
   "outputs": [],
   "source": [
    "data_dir = \"../../data/train\"\n",
    "classes = [\"field\", \"road\", \"town\", \"water\"]\n",
    "file_pattern = \"*{}*.jpg\"\n",
    "standard_shape = (50, 50, 3)"
   ],
   "metadata": {
    "collapsed": false,
    "pycharm": {
     "name": "#%%\n"
    }
   }
  },
  {
   "cell_type": "code",
   "execution_count": 23,
   "outputs": [],
   "source": [
    "dataset, features = read_dataset(data_dir, classes, file_pattern, standard_shape)\n",
    "train_df = dataset.sample(frac=0.85, random_state=18)\n",
    "test_df = dataset.drop(train_df.index)"
   ],
   "metadata": {
    "collapsed": false,
    "pycharm": {
     "name": "#%%\n"
    }
   }
  },
  {
   "cell_type": "code",
   "execution_count": 24,
   "outputs": [],
   "source": [
    "class Classifier:\n",
    "\n",
    "    head = None\n",
    "    __features = None\n",
    "    __classes_centers = None\n",
    "    __radius = None\n",
    "    __next_level_predictor = None\n",
    "\n",
    "    def __init__(self, head=True):\n",
    "        self.head = head\n",
    "\n",
    "    def fit(self, df, train_features, class_target, depth=5):\n",
    "        self.__features = train_features\n",
    "        self.__classes_centers = df.groupby(by=class_target).mean()[train_features]\n",
    "        self.__radius = self.__calc_classes_radius(df, class_target)\n",
    "        self.__next_level_predictor = self.__build_next_level_predict_action(df, class_target, depth)\n",
    "\n",
    "    def __calc_classes_radius(self, df, class_target):\n",
    "        radius = {}\n",
    "        for class_name in self.__classes_centers.index:\n",
    "            distances = []\n",
    "            class_center = self.__classes_centers.loc[class_name].values\n",
    "            class_df = df[df[class_target] == class_name]\n",
    "            for measure_idx in class_df.index:\n",
    "                measure = class_df.loc[measure_idx, self.__features].values\n",
    "                measure_evclid_distance = self.__calc_evclid_distance(class_center, measure)\n",
    "                distances.append(measure_evclid_distance)\n",
    "            radius[class_name] = max(distances)\n",
    "        return pd.DataFrame.from_dict(radius, orient=\"index\", columns=[\"Radius\"])\n",
    "\n",
    "    def __build_next_level_predict_action(self, df, class_target, depth):\n",
    "        uncertain_measures = self.__define_uncertain_measures(df)\n",
    "        if depth != 0 and len(uncertain_measures) != 0:\n",
    "            next_level_model = Classifier(head=False)\n",
    "            next_level_model.fit(uncertain_measures, self.__features, class_target, depth - 1)\n",
    "            return next_level_model.predict_class\n",
    "\n",
    "    def __define_uncertain_measures(self, df):\n",
    "        uncertain_measures_idxs = list()\n",
    "        for measure_idx in df.index:\n",
    "            measure = df.loc[measure_idx, self.__features].values\n",
    "            measure_classes = self.__measure_belong_to_classes(measure)\n",
    "            if len(measure_classes) > 1:\n",
    "                uncertain_measures_idxs.append(measure_idx)\n",
    "        return df.loc[uncertain_measures_idxs]\n",
    "\n",
    "    def __measure_belong_to_classes(self, measure):\n",
    "        owner_classes = list()\n",
    "        for class_name in self.__classes_centers.index:\n",
    "            class_center = self.__classes_centers.loc[class_name, self.__features].values\n",
    "            evclid_dist = self.__calc_evclid_distance(measure, class_center)\n",
    "            class_radius = self.__radius.loc[class_name, \"Radius\"]\n",
    "            if evclid_dist < class_radius:\n",
    "                owner_classes.append(class_name)\n",
    "        return owner_classes\n",
    "\n",
    "    @staticmethod\n",
    "    def __calc_evclid_distance(measure1, measure2):\n",
    "        difference = measure1 - measure2\n",
    "        squared_diff = np.square(difference)\n",
    "        sum_of_squared_diff = np.sum(squared_diff)\n",
    "        return sqrt(sum_of_squared_diff)\n",
    "\n",
    "    def predict(self, df):\n",
    "\n",
    "        def iterate_test_df(measure_df):\n",
    "            measure = measure_df.values\n",
    "            return self.predict_class(measure)\n",
    "\n",
    "        result = df[self.__features].apply(iterate_test_df, axis=1)\n",
    "        return result\n",
    "\n",
    "    def predict_class(self, measure):\n",
    "        defined_classes = self.__measure_belong_to_classes(measure)\n",
    "        defined_clases_number = len(defined_classes)\n",
    "        if defined_clases_number == 1:\n",
    "            return defined_classes[0]\n",
    "        elif not self.__next_level_predictor is None:\n",
    "            defined_class = self.__next_level_predictor(measure)\n",
    "            if defined_class is None and self.head:\n",
    "                return self.__predict_class_by_standard_method(measure)\n",
    "            else:\n",
    "                return defined_class\n",
    "        elif not self.head:\n",
    "            return None\n",
    "        else:\n",
    "            return self.__predict_class_by_standard_method(measure)\n",
    "\n",
    "    def __predict_class_by_standard_method(self, measure):\n",
    "        distances_to_classes = []\n",
    "        for class_name in self.__classes_centers.index:\n",
    "            class_standard = self.__classes_centers.loc[class_name].values\n",
    "            evclid_dst = self.__calc_evclid_distance(measure, class_standard)\n",
    "            distances_to_classes.append(evclid_dst)\n",
    "        best_class_index = np.argmin(distances_to_classes)\n",
    "        return self.__classes_centers.index[best_class_index]\n",
    "\n"
   ],
   "metadata": {
    "collapsed": false,
    "pycharm": {
     "name": "#%%\n"
    }
   }
  },
  {
   "cell_type": "code",
   "execution_count": 25,
   "outputs": [
    {
     "data": {
      "text/plain": "    1:1:1  1:1:2  1:1:3  1:2:1  1:2:2  1:2:3  1:3:1  1:3:2  1:3:3  1:4:1  ...  \\\n2   187.0  208.0  133.0  184.0  205.0  130.0  181.0  202.0  127.0  180.0  ...   \n5   196.0  207.0  131.0  194.0  205.0  129.0  190.0  200.0  127.0  186.0  ...   \n8   137.0  171.0   87.0  139.0  173.0   89.0  141.0  175.0   91.0  143.0  ...   \n19  204.0  216.0  142.0  197.0  208.0  130.0  190.0  202.0  120.0  187.0  ...   \n24  201.0  201.0  129.0  202.0  201.0  134.0  203.0  201.0  140.0  209.0  ...   \n34   61.0   87.0   74.0   70.0   96.0   83.0   80.0  107.0   90.0   94.0  ...   \n42  132.0  139.0   85.0  137.0  144.0   92.0  137.0  145.0   94.0  140.0  ...   \n\n    50:48:1  50:48:2  50:48:3  50:49:1  50:49:2  50:49:3  50:50:1  50:50:2  \\\n2     145.0    179.0     92.0    143.0    179.0     92.0    143.0    179.0   \n5     174.0    186.0    114.0    174.0    192.0    116.0    174.0    192.0   \n8     150.0    184.0    107.0    149.0    183.0    109.0    148.0    182.0   \n19    178.0    188.0    101.0    166.0    189.0    101.0    165.0    188.0   \n24    207.0    199.0    162.0    205.0    209.0    150.0    207.0    211.0   \n34     97.0    129.0    106.0     91.0    120.0    102.0     91.0    120.0   \n42     74.0    134.0    100.0     76.0    131.0     99.0     76.0    131.0   \n\n    50:50:3  class  \n2      92.0  field  \n5     116.0  field  \n8     108.0  field  \n19    100.0   road  \n24    152.0   town  \n34    102.0  water  \n42     99.0  water  \n\n[7 rows x 7501 columns]",
      "text/html": "<div>\n<style scoped>\n    .dataframe tbody tr th:only-of-type {\n        vertical-align: middle;\n    }\n\n    .dataframe tbody tr th {\n        vertical-align: top;\n    }\n\n    .dataframe thead th {\n        text-align: right;\n    }\n</style>\n<table border=\"1\" class=\"dataframe\">\n  <thead>\n    <tr style=\"text-align: right;\">\n      <th></th>\n      <th>1:1:1</th>\n      <th>1:1:2</th>\n      <th>1:1:3</th>\n      <th>1:2:1</th>\n      <th>1:2:2</th>\n      <th>1:2:3</th>\n      <th>1:3:1</th>\n      <th>1:3:2</th>\n      <th>1:3:3</th>\n      <th>1:4:1</th>\n      <th>...</th>\n      <th>50:48:1</th>\n      <th>50:48:2</th>\n      <th>50:48:3</th>\n      <th>50:49:1</th>\n      <th>50:49:2</th>\n      <th>50:49:3</th>\n      <th>50:50:1</th>\n      <th>50:50:2</th>\n      <th>50:50:3</th>\n      <th>class</th>\n    </tr>\n  </thead>\n  <tbody>\n    <tr>\n      <th>2</th>\n      <td>187.0</td>\n      <td>208.0</td>\n      <td>133.0</td>\n      <td>184.0</td>\n      <td>205.0</td>\n      <td>130.0</td>\n      <td>181.0</td>\n      <td>202.0</td>\n      <td>127.0</td>\n      <td>180.0</td>\n      <td>...</td>\n      <td>145.0</td>\n      <td>179.0</td>\n      <td>92.0</td>\n      <td>143.0</td>\n      <td>179.0</td>\n      <td>92.0</td>\n      <td>143.0</td>\n      <td>179.0</td>\n      <td>92.0</td>\n      <td>field</td>\n    </tr>\n    <tr>\n      <th>5</th>\n      <td>196.0</td>\n      <td>207.0</td>\n      <td>131.0</td>\n      <td>194.0</td>\n      <td>205.0</td>\n      <td>129.0</td>\n      <td>190.0</td>\n      <td>200.0</td>\n      <td>127.0</td>\n      <td>186.0</td>\n      <td>...</td>\n      <td>174.0</td>\n      <td>186.0</td>\n      <td>114.0</td>\n      <td>174.0</td>\n      <td>192.0</td>\n      <td>116.0</td>\n      <td>174.0</td>\n      <td>192.0</td>\n      <td>116.0</td>\n      <td>field</td>\n    </tr>\n    <tr>\n      <th>8</th>\n      <td>137.0</td>\n      <td>171.0</td>\n      <td>87.0</td>\n      <td>139.0</td>\n      <td>173.0</td>\n      <td>89.0</td>\n      <td>141.0</td>\n      <td>175.0</td>\n      <td>91.0</td>\n      <td>143.0</td>\n      <td>...</td>\n      <td>150.0</td>\n      <td>184.0</td>\n      <td>107.0</td>\n      <td>149.0</td>\n      <td>183.0</td>\n      <td>109.0</td>\n      <td>148.0</td>\n      <td>182.0</td>\n      <td>108.0</td>\n      <td>field</td>\n    </tr>\n    <tr>\n      <th>19</th>\n      <td>204.0</td>\n      <td>216.0</td>\n      <td>142.0</td>\n      <td>197.0</td>\n      <td>208.0</td>\n      <td>130.0</td>\n      <td>190.0</td>\n      <td>202.0</td>\n      <td>120.0</td>\n      <td>187.0</td>\n      <td>...</td>\n      <td>178.0</td>\n      <td>188.0</td>\n      <td>101.0</td>\n      <td>166.0</td>\n      <td>189.0</td>\n      <td>101.0</td>\n      <td>165.0</td>\n      <td>188.0</td>\n      <td>100.0</td>\n      <td>road</td>\n    </tr>\n    <tr>\n      <th>24</th>\n      <td>201.0</td>\n      <td>201.0</td>\n      <td>129.0</td>\n      <td>202.0</td>\n      <td>201.0</td>\n      <td>134.0</td>\n      <td>203.0</td>\n      <td>201.0</td>\n      <td>140.0</td>\n      <td>209.0</td>\n      <td>...</td>\n      <td>207.0</td>\n      <td>199.0</td>\n      <td>162.0</td>\n      <td>205.0</td>\n      <td>209.0</td>\n      <td>150.0</td>\n      <td>207.0</td>\n      <td>211.0</td>\n      <td>152.0</td>\n      <td>town</td>\n    </tr>\n    <tr>\n      <th>34</th>\n      <td>61.0</td>\n      <td>87.0</td>\n      <td>74.0</td>\n      <td>70.0</td>\n      <td>96.0</td>\n      <td>83.0</td>\n      <td>80.0</td>\n      <td>107.0</td>\n      <td>90.0</td>\n      <td>94.0</td>\n      <td>...</td>\n      <td>97.0</td>\n      <td>129.0</td>\n      <td>106.0</td>\n      <td>91.0</td>\n      <td>120.0</td>\n      <td>102.0</td>\n      <td>91.0</td>\n      <td>120.0</td>\n      <td>102.0</td>\n      <td>water</td>\n    </tr>\n    <tr>\n      <th>42</th>\n      <td>132.0</td>\n      <td>139.0</td>\n      <td>85.0</td>\n      <td>137.0</td>\n      <td>144.0</td>\n      <td>92.0</td>\n      <td>137.0</td>\n      <td>145.0</td>\n      <td>94.0</td>\n      <td>140.0</td>\n      <td>...</td>\n      <td>74.0</td>\n      <td>134.0</td>\n      <td>100.0</td>\n      <td>76.0</td>\n      <td>131.0</td>\n      <td>99.0</td>\n      <td>76.0</td>\n      <td>131.0</td>\n      <td>99.0</td>\n      <td>water</td>\n    </tr>\n  </tbody>\n</table>\n<p>7 rows × 7501 columns</p>\n</div>"
     },
     "execution_count": 25,
     "metadata": {},
     "output_type": "execute_result"
    }
   ],
   "source": [
    "test_df"
   ],
   "metadata": {
    "collapsed": false,
    "pycharm": {
     "name": "#%%\n"
    }
   }
  },
  {
   "cell_type": "code",
   "execution_count": 26,
   "outputs": [],
   "source": [
    "model = Classifier()\n",
    "model.fit(train_df, features, \"class\")"
   ],
   "metadata": {
    "collapsed": false,
    "pycharm": {
     "name": "#%%\n"
    }
   }
  },
  {
   "cell_type": "code",
   "execution_count": 27,
   "outputs": [],
   "source": [
    "true_y = test_df[\"class\"]\n",
    "\n"
   ],
   "metadata": {
    "collapsed": false,
    "pycharm": {
     "name": "#%%\n"
    }
   }
  },
  {
   "cell_type": "code",
   "execution_count": 28,
   "outputs": [],
   "source": [
    "pred_y = model.predict(test_df)"
   ],
   "metadata": {
    "collapsed": false,
    "pycharm": {
     "name": "#%%\n"
    }
   }
  },
  {
   "cell_type": "code",
   "execution_count": 29,
   "outputs": [
    {
     "data": {
      "text/plain": "1.0"
     },
     "execution_count": 29,
     "metadata": {},
     "output_type": "execute_result"
    }
   ],
   "source": [
    "accuracy_score(true_y, pred_y)"
   ],
   "metadata": {
    "collapsed": false,
    "pycharm": {
     "name": "#%%\n"
    }
   }
  },
  {
   "cell_type": "code",
   "execution_count": 30,
   "outputs": [
    {
     "name": "stdout",
     "output_type": "stream",
     "text": [
      "100.0% accuracy score with 7500 features\n",
      "100.0% accuracy score with 7400 features\n",
      "100.0% accuracy score with 7300 features\n",
      "100.0% accuracy score with 7200 features\n",
      "100.0% accuracy score with 7100 features\n",
      "100.0% accuracy score with 7000 features\n",
      "100.0% accuracy score with 6900 features\n",
      "100.0% accuracy score with 6800 features\n",
      "100.0% accuracy score with 6700 features\n",
      "100.0% accuracy score with 6600 features\n",
      "100.0% accuracy score with 6500 features\n",
      "100.0% accuracy score with 6400 features\n",
      "100.0% accuracy score with 6300 features\n",
      "100.0% accuracy score with 6200 features\n",
      "100.0% accuracy score with 6100 features\n",
      "100.0% accuracy score with 6000 features\n",
      "100.0% accuracy score with 5900 features\n",
      "100.0% accuracy score with 5800 features\n",
      "100.0% accuracy score with 5700 features\n",
      "100.0% accuracy score with 5600 features\n",
      "100.0% accuracy score with 5500 features\n",
      "100.0% accuracy score with 5400 features\n",
      "100.0% accuracy score with 5300 features\n",
      "100.0% accuracy score with 5200 features\n",
      "100.0% accuracy score with 5100 features\n",
      "100.0% accuracy score with 5000 features\n",
      "100.0% accuracy score with 4900 features\n",
      "100.0% accuracy score with 4800 features\n",
      "100.0% accuracy score with 4700 features\n",
      "100.0% accuracy score with 4600 features\n",
      "100.0% accuracy score with 4500 features\n",
      "100.0% accuracy score with 4400 features\n",
      "100.0% accuracy score with 4300 features\n",
      "100.0% accuracy score with 4200 features\n",
      "100.0% accuracy score with 4100 features\n",
      "100.0% accuracy score with 4000 features\n",
      "71.39999999999999% accuracy score with 3900 features\n",
      "100.0% accuracy score with 3800 features\n",
      "100.0% accuracy score with 3700 features\n",
      "100.0% accuracy score with 3600 features\n",
      "100.0% accuracy score with 3500 features\n",
      "85.7% accuracy score with 3400 features\n",
      "85.7% accuracy score with 3300 features\n",
      "85.7% accuracy score with 3200 features\n",
      "85.7% accuracy score with 3100 features\n",
      "85.7% accuracy score with 3000 features\n",
      "85.7% accuracy score with 2900 features\n",
      "100.0% accuracy score with 2800 features\n",
      "100.0% accuracy score with 2700 features\n",
      "100.0% accuracy score with 2600 features\n",
      "100.0% accuracy score with 2500 features\n",
      "85.7% accuracy score with 2400 features\n",
      "71.39999999999999% accuracy score with 2300 features\n",
      "71.39999999999999% accuracy score with 2200 features\n",
      "57.099999999999994% accuracy score with 2100 features\n",
      "71.39999999999999% accuracy score with 2000 features\n",
      "71.39999999999999% accuracy score with 1900 features\n",
      "71.39999999999999% accuracy score with 1800 features\n",
      "71.39999999999999% accuracy score with 1700 features\n",
      "71.39999999999999% accuracy score with 1600 features\n",
      "71.39999999999999% accuracy score with 1500 features\n",
      "71.39999999999999% accuracy score with 1400 features\n",
      "71.39999999999999% accuracy score with 1300 features\n",
      "57.099999999999994% accuracy score with 1200 features\n",
      "71.39999999999999% accuracy score with 1100 features\n",
      "71.39999999999999% accuracy score with 1000 features\n",
      "57.099999999999994% accuracy score with 900 features\n",
      "71.39999999999999% accuracy score with 800 features\n",
      "85.7% accuracy score with 700 features\n",
      "57.099999999999994% accuracy score with 600 features\n",
      "71.39999999999999% accuracy score with 500 features\n",
      "57.099999999999994% accuracy score with 400 features\n",
      "57.099999999999994% accuracy score with 300 features\n",
      "71.39999999999999% accuracy score with 200 features\n"
     ]
    }
   ],
   "source": [
    "for i in range(7500, 100, -100):\n",
    "    local_features_to_use = features[:i]\n",
    "    model.fit(train_df, local_features_to_use, \"class\")\n",
    "    local_predicted_classes = model.predict(test_df)\n",
    "    local_acc = round(accuracy_score(true_y, local_predicted_classes), 3)\n",
    "    print(f\"{local_acc * 100}% accuracy score with {len(local_features_to_use)} features\")"
   ],
   "metadata": {
    "collapsed": false,
    "pycharm": {
     "name": "#%%\n"
    }
   }
  },
  {
   "cell_type": "code",
   "execution_count": 31,
   "outputs": [
    {
     "name": "stdout",
     "output_type": "stream",
     "text": [
      "100.0 % accuracy with 4 classes\n",
      "71.42857142857143 % accuracy with 3 classes\n",
      "57.14285714285714 % accuracy with 2 classes\n"
     ]
    }
   ],
   "source": [
    "for class_number in range(len(classes), 1, -1):\n",
    "    local_classes = classes[:class_number]\n",
    "    local_dataset = dataset[dataset[\"class\"].isin(local_classes)]\n",
    "    local_train_df = local_dataset.sample(frac=0.85)\n",
    "    local_test_df = local_dataset.drop(local_train_df.index)\n",
    "    model = Classifier()\n",
    "    model.fit(local_train_df, features, \"class\")\n",
    "    local_predicted = model.predict(test_df)\n",
    "    real = test_df[\"class\"].values\n",
    "    acc_val = accuracy_score(real, local_predicted)\n",
    "    print(f\"{acc_val * 100} % accuracy with {class_number} classes\")\n",
    "\n"
   ],
   "metadata": {
    "collapsed": false,
    "pycharm": {
     "name": "#%%\n"
    }
   }
  }
 ],
 "metadata": {
  "kernelspec": {
   "display_name": "Python 3",
   "language": "python",
   "name": "python3"
  },
  "language_info": {
   "codemirror_mode": {
    "name": "ipython",
    "version": 2
   },
   "file_extension": ".py",
   "mimetype": "text/x-python",
   "name": "python",
   "nbconvert_exporter": "python",
   "pygments_lexer": "ipython2",
   "version": "2.7.6"
  }
 },
 "nbformat": 4,
 "nbformat_minor": 0
}