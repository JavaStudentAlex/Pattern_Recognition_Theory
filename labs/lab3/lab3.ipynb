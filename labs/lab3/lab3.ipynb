{
 "cells": [
  {
   "cell_type": "markdown",
   "metadata": {},
   "source": [
    "# Код реалізації та результати роботи до завдання 3\n",
    "Import libraries"
   ]
  },
  {
   "cell_type": "code",
   "execution_count": 13,
   "metadata": {
    "collapsed": true
   },
   "outputs": [],
   "source": [
    "from scipy.special import expit\n",
    "import numpy as np\n",
    "from sklearn.metrics import accuracy_score\n",
    "from IPython.display import Image\n",
    "\n",
    "from labs.helpers import read_dataset"
   ]
  },
  {
   "cell_type": "markdown",
   "metadata": {},
   "source": [
    "Prepare to load data"
   ]
  },
  {
   "cell_type": "code",
   "execution_count": 14,
   "metadata": {
    "pycharm": {
     "name": "#%%\n"
    }
   },
   "outputs": [],
   "source": [
    "data_dir = \"../../data/train\"\n",
    "classes = [\"field\", \"water\"]\n",
    "file_pattern = \"*{}*.jpg\"\n",
    "standard_shape = (50, 50, 3)"
   ]
  },
  {
   "cell_type": "markdown",
   "metadata": {},
   "source": [
    "Load data and split it to train and test datasets"
   ]
  },
  {
   "cell_type": "code",
   "execution_count": 15,
   "metadata": {
    "pycharm": {
     "name": "#%%\n"
    }
   },
   "outputs": [],
   "source": [
    "dataset, features = read_dataset(data_dir, classes, file_pattern, standard_shape)\n",
    "train_df = dataset.sample(frac=0.8, random_state=18)\n",
    "test_df = dataset.drop(train_df.index)"
   ]
  },
  {
   "cell_type": "markdown",
   "metadata": {},
   "source": [
    "Demonstrate datasets"
   ]
  },
  {
   "cell_type": "code",
   "execution_count": 16,
   "metadata": {
    "pycharm": {
     "name": "#%%\n"
    }
   },
   "outputs": [
    {
     "data": {
      "text/html": [
       "<div>\n",
       "<style scoped>\n",
       "    .dataframe tbody tr th:only-of-type {\n",
       "        vertical-align: middle;\n",
       "    }\n",
       "\n",
       "    .dataframe tbody tr th {\n",
       "        vertical-align: top;\n",
       "    }\n",
       "\n",
       "    .dataframe thead th {\n",
       "        text-align: right;\n",
       "    }\n",
       "</style>\n",
       "<table border=\"1\" class=\"dataframe\">\n",
       "  <thead>\n",
       "    <tr style=\"text-align: right;\">\n",
       "      <th></th>\n",
       "      <th>1:1:1</th>\n",
       "      <th>1:1:2</th>\n",
       "      <th>1:1:3</th>\n",
       "      <th>1:2:1</th>\n",
       "      <th>1:2:2</th>\n",
       "      <th>1:2:3</th>\n",
       "      <th>1:3:1</th>\n",
       "      <th>1:3:2</th>\n",
       "      <th>1:3:3</th>\n",
       "      <th>1:4:1</th>\n",
       "      <th>...</th>\n",
       "      <th>50:48:1</th>\n",
       "      <th>50:48:2</th>\n",
       "      <th>50:48:3</th>\n",
       "      <th>50:49:1</th>\n",
       "      <th>50:49:2</th>\n",
       "      <th>50:49:3</th>\n",
       "      <th>50:50:1</th>\n",
       "      <th>50:50:2</th>\n",
       "      <th>50:50:3</th>\n",
       "      <th>class</th>\n",
       "    </tr>\n",
       "  </thead>\n",
       "  <tbody>\n",
       "    <tr>\n",
       "      <th>0</th>\n",
       "      <td>0.0</td>\n",
       "      <td>7.0</td>\n",
       "      <td>3.0</td>\n",
       "      <td>11.0</td>\n",
       "      <td>24.0</td>\n",
       "      <td>15.0</td>\n",
       "      <td>0.0</td>\n",
       "      <td>10.0</td>\n",
       "      <td>0.0</td>\n",
       "      <td>10.0</td>\n",
       "      <td>...</td>\n",
       "      <td>156.0</td>\n",
       "      <td>199.0</td>\n",
       "      <td>143.0</td>\n",
       "      <td>152.0</td>\n",
       "      <td>192.0</td>\n",
       "      <td>129.0</td>\n",
       "      <td>157.0</td>\n",
       "      <td>197.0</td>\n",
       "      <td>134.0</td>\n",
       "      <td>field</td>\n",
       "    </tr>\n",
       "    <tr>\n",
       "      <th>13</th>\n",
       "      <td>48.0</td>\n",
       "      <td>83.0</td>\n",
       "      <td>76.0</td>\n",
       "      <td>51.0</td>\n",
       "      <td>86.0</td>\n",
       "      <td>79.0</td>\n",
       "      <td>55.0</td>\n",
       "      <td>90.0</td>\n",
       "      <td>83.0</td>\n",
       "      <td>54.0</td>\n",
       "      <td>...</td>\n",
       "      <td>52.0</td>\n",
       "      <td>85.0</td>\n",
       "      <td>74.0</td>\n",
       "      <td>61.0</td>\n",
       "      <td>94.0</td>\n",
       "      <td>85.0</td>\n",
       "      <td>59.0</td>\n",
       "      <td>92.0</td>\n",
       "      <td>83.0</td>\n",
       "      <td>water</td>\n",
       "    </tr>\n",
       "    <tr>\n",
       "      <th>18</th>\n",
       "      <td>58.0</td>\n",
       "      <td>92.0</td>\n",
       "      <td>91.0</td>\n",
       "      <td>61.0</td>\n",
       "      <td>95.0</td>\n",
       "      <td>94.0</td>\n",
       "      <td>67.0</td>\n",
       "      <td>101.0</td>\n",
       "      <td>100.0</td>\n",
       "      <td>73.0</td>\n",
       "      <td>...</td>\n",
       "      <td>73.0</td>\n",
       "      <td>103.0</td>\n",
       "      <td>95.0</td>\n",
       "      <td>87.0</td>\n",
       "      <td>115.0</td>\n",
       "      <td>103.0</td>\n",
       "      <td>86.0</td>\n",
       "      <td>114.0</td>\n",
       "      <td>102.0</td>\n",
       "      <td>water</td>\n",
       "    </tr>\n",
       "    <tr>\n",
       "      <th>12</th>\n",
       "      <td>61.0</td>\n",
       "      <td>87.0</td>\n",
       "      <td>74.0</td>\n",
       "      <td>70.0</td>\n",
       "      <td>96.0</td>\n",
       "      <td>83.0</td>\n",
       "      <td>80.0</td>\n",
       "      <td>107.0</td>\n",
       "      <td>90.0</td>\n",
       "      <td>94.0</td>\n",
       "      <td>...</td>\n",
       "      <td>97.0</td>\n",
       "      <td>129.0</td>\n",
       "      <td>106.0</td>\n",
       "      <td>91.0</td>\n",
       "      <td>120.0</td>\n",
       "      <td>102.0</td>\n",
       "      <td>91.0</td>\n",
       "      <td>120.0</td>\n",
       "      <td>102.0</td>\n",
       "      <td>water</td>\n",
       "    </tr>\n",
       "    <tr>\n",
       "      <th>7</th>\n",
       "      <td>126.0</td>\n",
       "      <td>168.0</td>\n",
       "      <td>102.0</td>\n",
       "      <td>125.0</td>\n",
       "      <td>168.0</td>\n",
       "      <td>99.0</td>\n",
       "      <td>123.0</td>\n",
       "      <td>166.0</td>\n",
       "      <td>97.0</td>\n",
       "      <td>123.0</td>\n",
       "      <td>...</td>\n",
       "      <td>175.0</td>\n",
       "      <td>196.0</td>\n",
       "      <td>119.0</td>\n",
       "      <td>181.0</td>\n",
       "      <td>197.0</td>\n",
       "      <td>122.0</td>\n",
       "      <td>181.0</td>\n",
       "      <td>197.0</td>\n",
       "      <td>122.0</td>\n",
       "      <td>field</td>\n",
       "    </tr>\n",
       "  </tbody>\n",
       "</table>\n",
       "<p>5 rows × 7501 columns</p>\n",
       "</div>"
      ],
      "text/plain": [
       "    1:1:1  1:1:2  1:1:3  1:2:1  1:2:2  1:2:3  1:3:1  1:3:2  1:3:3  1:4:1  ...  \\\n",
       "0     0.0    7.0    3.0   11.0   24.0   15.0    0.0   10.0    0.0   10.0  ...   \n",
       "13   48.0   83.0   76.0   51.0   86.0   79.0   55.0   90.0   83.0   54.0  ...   \n",
       "18   58.0   92.0   91.0   61.0   95.0   94.0   67.0  101.0  100.0   73.0  ...   \n",
       "12   61.0   87.0   74.0   70.0   96.0   83.0   80.0  107.0   90.0   94.0  ...   \n",
       "7   126.0  168.0  102.0  125.0  168.0   99.0  123.0  166.0   97.0  123.0  ...   \n",
       "\n",
       "    50:48:1  50:48:2  50:48:3  50:49:1  50:49:2  50:49:3  50:50:1  50:50:2  \\\n",
       "0     156.0    199.0    143.0    152.0    192.0    129.0    157.0    197.0   \n",
       "13     52.0     85.0     74.0     61.0     94.0     85.0     59.0     92.0   \n",
       "18     73.0    103.0     95.0     87.0    115.0    103.0     86.0    114.0   \n",
       "12     97.0    129.0    106.0     91.0    120.0    102.0     91.0    120.0   \n",
       "7     175.0    196.0    119.0    181.0    197.0    122.0    181.0    197.0   \n",
       "\n",
       "    50:50:3  class  \n",
       "0     134.0  field  \n",
       "13     83.0  water  \n",
       "18    102.0  water  \n",
       "12    102.0  water  \n",
       "7     122.0  field  \n",
       "\n",
       "[5 rows x 7501 columns]"
      ]
     },
     "execution_count": 16,
     "metadata": {},
     "output_type": "execute_result"
    }
   ],
   "source": [
    "train_df.head()"
   ]
  },
  {
   "cell_type": "code",
   "execution_count": 17,
   "metadata": {
    "pycharm": {
     "name": "#%%\n"
    }
   },
   "outputs": [
    {
     "data": {
      "text/html": [
       "<div>\n",
       "<style scoped>\n",
       "    .dataframe tbody tr th:only-of-type {\n",
       "        vertical-align: middle;\n",
       "    }\n",
       "\n",
       "    .dataframe tbody tr th {\n",
       "        vertical-align: top;\n",
       "    }\n",
       "\n",
       "    .dataframe thead th {\n",
       "        text-align: right;\n",
       "    }\n",
       "</style>\n",
       "<table border=\"1\" class=\"dataframe\">\n",
       "  <thead>\n",
       "    <tr style=\"text-align: right;\">\n",
       "      <th></th>\n",
       "      <th>1:1:1</th>\n",
       "      <th>1:1:2</th>\n",
       "      <th>1:1:3</th>\n",
       "      <th>1:2:1</th>\n",
       "      <th>1:2:2</th>\n",
       "      <th>1:2:3</th>\n",
       "      <th>1:3:1</th>\n",
       "      <th>1:3:2</th>\n",
       "      <th>1:3:3</th>\n",
       "      <th>1:4:1</th>\n",
       "      <th>...</th>\n",
       "      <th>50:48:1</th>\n",
       "      <th>50:48:2</th>\n",
       "      <th>50:48:3</th>\n",
       "      <th>50:49:1</th>\n",
       "      <th>50:49:2</th>\n",
       "      <th>50:49:3</th>\n",
       "      <th>50:50:1</th>\n",
       "      <th>50:50:2</th>\n",
       "      <th>50:50:3</th>\n",
       "      <th>class</th>\n",
       "    </tr>\n",
       "  </thead>\n",
       "  <tbody>\n",
       "    <tr>\n",
       "      <th>5</th>\n",
       "      <td>196.0</td>\n",
       "      <td>207.0</td>\n",
       "      <td>131.0</td>\n",
       "      <td>194.0</td>\n",
       "      <td>205.0</td>\n",
       "      <td>129.0</td>\n",
       "      <td>190.0</td>\n",
       "      <td>200.0</td>\n",
       "      <td>127.0</td>\n",
       "      <td>186.0</td>\n",
       "      <td>...</td>\n",
       "      <td>174.0</td>\n",
       "      <td>186.0</td>\n",
       "      <td>114.0</td>\n",
       "      <td>174.0</td>\n",
       "      <td>192.0</td>\n",
       "      <td>116.0</td>\n",
       "      <td>174.0</td>\n",
       "      <td>192.0</td>\n",
       "      <td>116.0</td>\n",
       "      <td>field</td>\n",
       "    </tr>\n",
       "    <tr>\n",
       "      <th>10</th>\n",
       "      <td>212.0</td>\n",
       "      <td>217.0</td>\n",
       "      <td>161.0</td>\n",
       "      <td>214.0</td>\n",
       "      <td>219.0</td>\n",
       "      <td>163.0</td>\n",
       "      <td>212.0</td>\n",
       "      <td>220.0</td>\n",
       "      <td>163.0</td>\n",
       "      <td>204.0</td>\n",
       "      <td>...</td>\n",
       "      <td>146.0</td>\n",
       "      <td>190.0</td>\n",
       "      <td>103.0</td>\n",
       "      <td>150.0</td>\n",
       "      <td>194.0</td>\n",
       "      <td>105.0</td>\n",
       "      <td>150.0</td>\n",
       "      <td>194.0</td>\n",
       "      <td>105.0</td>\n",
       "      <td>field</td>\n",
       "    </tr>\n",
       "    <tr>\n",
       "      <th>17</th>\n",
       "      <td>66.0</td>\n",
       "      <td>105.0</td>\n",
       "      <td>86.0</td>\n",
       "      <td>64.0</td>\n",
       "      <td>103.0</td>\n",
       "      <td>84.0</td>\n",
       "      <td>62.0</td>\n",
       "      <td>101.0</td>\n",
       "      <td>82.0</td>\n",
       "      <td>59.0</td>\n",
       "      <td>...</td>\n",
       "      <td>153.0</td>\n",
       "      <td>173.0</td>\n",
       "      <td>88.0</td>\n",
       "      <td>120.0</td>\n",
       "      <td>143.0</td>\n",
       "      <td>99.0</td>\n",
       "      <td>87.0</td>\n",
       "      <td>110.0</td>\n",
       "      <td>66.0</td>\n",
       "      <td>water</td>\n",
       "    </tr>\n",
       "    <tr>\n",
       "      <th>19</th>\n",
       "      <td>55.0</td>\n",
       "      <td>87.0</td>\n",
       "      <td>82.0</td>\n",
       "      <td>54.0</td>\n",
       "      <td>86.0</td>\n",
       "      <td>81.0</td>\n",
       "      <td>53.0</td>\n",
       "      <td>85.0</td>\n",
       "      <td>80.0</td>\n",
       "      <td>53.0</td>\n",
       "      <td>...</td>\n",
       "      <td>178.0</td>\n",
       "      <td>196.0</td>\n",
       "      <td>114.0</td>\n",
       "      <td>173.0</td>\n",
       "      <td>192.0</td>\n",
       "      <td>113.0</td>\n",
       "      <td>158.0</td>\n",
       "      <td>177.0</td>\n",
       "      <td>98.0</td>\n",
       "      <td>water</td>\n",
       "    </tr>\n",
       "  </tbody>\n",
       "</table>\n",
       "<p>4 rows × 7501 columns</p>\n",
       "</div>"
      ],
      "text/plain": [
       "    1:1:1  1:1:2  1:1:3  1:2:1  1:2:2  1:2:3  1:3:1  1:3:2  1:3:3  1:4:1  ...  \\\n",
       "5   196.0  207.0  131.0  194.0  205.0  129.0  190.0  200.0  127.0  186.0  ...   \n",
       "10  212.0  217.0  161.0  214.0  219.0  163.0  212.0  220.0  163.0  204.0  ...   \n",
       "17   66.0  105.0   86.0   64.0  103.0   84.0   62.0  101.0   82.0   59.0  ...   \n",
       "19   55.0   87.0   82.0   54.0   86.0   81.0   53.0   85.0   80.0   53.0  ...   \n",
       "\n",
       "    50:48:1  50:48:2  50:48:3  50:49:1  50:49:2  50:49:3  50:50:1  50:50:2  \\\n",
       "5     174.0    186.0    114.0    174.0    192.0    116.0    174.0    192.0   \n",
       "10    146.0    190.0    103.0    150.0    194.0    105.0    150.0    194.0   \n",
       "17    153.0    173.0     88.0    120.0    143.0     99.0     87.0    110.0   \n",
       "19    178.0    196.0    114.0    173.0    192.0    113.0    158.0    177.0   \n",
       "\n",
       "    50:50:3  class  \n",
       "5     116.0  field  \n",
       "10    105.0  field  \n",
       "17     66.0  water  \n",
       "19     98.0  water  \n",
       "\n",
       "[4 rows x 7501 columns]"
      ]
     },
     "execution_count": 17,
     "metadata": {},
     "output_type": "execute_result"
    }
   ],
   "source": [
    "test_df.head()"
   ]
  },
  {
   "cell_type": "markdown",
   "metadata": {},
   "source": [
    "Python class that realizes learning and prediction operations"
   ]
  },
  {
   "cell_type": "code",
   "execution_count": 18,
   "metadata": {
    "pycharm": {
     "name": "#%%\n"
    }
   },
   "outputs": [],
   "source": [
    "class LinearPerceptron:\n",
    "\n",
    "    __features = None\n",
    "    __class_to_number = None\n",
    "    __number_to_class = None\n",
    "    weights = None\n",
    "    __old_weights_delta = None\n",
    "\n",
    "    def __init__(self, learning_rate=5, moment=0.7, max_epoch=100000):\n",
    "        self.__learning_rate = learning_rate\n",
    "        self.__moment = moment\n",
    "        self.__max_epoch = max_epoch\n",
    "        self.__activation = expit\n",
    "\n",
    "    def fit(self, df, train_features, target):\n",
    "        self.__features = train_features\n",
    "        self.__build_classes_binarizers(df, target)\n",
    "        train_values = self.__build_values(df)\n",
    "        binarized_classes = df[target].apply(lambda class_: self.__class_to_number[class_]).values.astype(\"float32\")\n",
    "        self.__old_weights_delta = np.zeros(train_values.shape[1])\n",
    "        self.weights = np.full(train_values.shape[1], 0.001)\n",
    "        # inside for operator\n",
    "        for epoch_number in range(self.__max_epoch):\n",
    "            cum_error = 0\n",
    "            for measure_index in range(train_values.shape[0]):\n",
    "                measure = train_values[measure_index]\n",
    "                real_value = binarized_classes[measure_index]\n",
    "                cum_error += self.__learn(measure, real_value)\n",
    "                mean_epoch_error = np.mean(cum_error)\n",
    "                if mean_epoch_error < 0.000000001:\n",
    "                    return\n",
    "\n",
    "    def __build_values(self, df):\n",
    "        measures = df[self.__features].values\n",
    "        bias_neuron_vals = np.ones((measures.shape[0], 1))\n",
    "        values = np.hstack((bias_neuron_vals, self.__activation(measures)))\n",
    "        return values\n",
    "\n",
    "    def __learn(self, measure, real_value):\n",
    "        neuron_output = self.__go_forward(measure)\n",
    "        self.__go_backward(measure, neuron_output, real_value)\n",
    "        return self.__go_forward(measure)\n",
    "\n",
    "    def __go_forward(self, measure):\n",
    "        multiplied = np.multiply(measure, self.weights)\n",
    "        neuron_input = np.sum(multiplied)\n",
    "        neuron_output = self.__activation(neuron_input)\n",
    "        return neuron_output\n",
    "\n",
    "    def __go_backward(self, measure, neuron_output, real_value):\n",
    "        out_neuron_error = (real_value - neuron_output) * self.__activation_derivative(neuron_output)\n",
    "        neuron_activation_derivation = np.multiply(1 - measure, measure)\n",
    "        error_by_weights = out_neuron_error * self.weights\n",
    "        in_neurons_errors = np.multiply(neuron_activation_derivation, error_by_weights)\n",
    "        gradients = np.multiply(in_neurons_errors, measure)\n",
    "        new_weights_delta = self.__learning_rate * gradients + self.__old_weights_delta * self.__moment\n",
    "        self.weights += new_weights_delta\n",
    "        self.__old_weights_delta = new_weights_delta\n",
    "\n",
    "    def __build_classes_binarizers(self, df, target):\n",
    "        self.__class_to_number = dict()\n",
    "        self.__number_to_class = dict()\n",
    "        classes_list = df[target].unique()\n",
    "        for k, v in enumerate(classes_list[:2]):\n",
    "            self.__class_to_number[v] = k\n",
    "            self.__number_to_class[k] = v\n",
    "\n",
    "    @staticmethod\n",
    "    def __activation_derivative(neuron_out):\n",
    "        return (1 - neuron_out) * neuron_out\n",
    "\n",
    "    def predict(self, df):\n",
    "\n",
    "        def iterate_over_measures(measure):\n",
    "            result = self.__go_forward(measure)\n",
    "            return self.__number_to_class[int(round(result))]\n",
    "\n",
    "        test_values = self.__build_values(df)\n",
    "        return np.apply_along_axis(iterate_over_measures, 1, test_values)\n"
   ]
  },
  {
   "cell_type": "markdown",
   "metadata": {},
   "source": [
    "Train the model and predict classes for test data"
   ]
  },
  {
   "cell_type": "code",
   "execution_count": 19,
   "metadata": {
    "pycharm": {
     "name": "#%%\n"
    }
   },
   "outputs": [
    {
     "name": "stdout",
     "output_type": "stream",
     "text": [
      "Model trained with such weights:\n"
     ]
    },
    {
     "data": {
      "text/plain": [
       "array([1.00000000e-003, 6.03510639e-135, 2.03087948e-007, ...,\n",
       "       1.00000000e-003, 1.00000000e-003, 1.00000000e-003])"
      ]
     },
     "execution_count": 19,
     "metadata": {},
     "output_type": "execute_result"
    }
   ],
   "source": [
    "model = LinearPerceptron()\n",
    "model.fit(train_df, features, \"class\")\n",
    "print(\"Model trained with such weights:\")\n",
    "model.weights\n"
   ]
  },
  {
   "cell_type": "code",
   "execution_count": 20,
   "metadata": {
    "pycharm": {
     "name": "#%%\n"
    }
   },
   "outputs": [
    {
     "name": "stdout",
     "output_type": "stream",
     "text": [
      "Accuracy is 0.5\n"
     ]
    }
   ],
   "source": [
    "real_classes = test_df[\"class\"].values\n",
    "predicted = model.predict(test_df)\n",
    "\n",
    "print(f\"Accuracy is {accuracy_score(real_classes, predicted)}\")"
   ]
  },
  {
   "cell_type": "markdown",
   "metadata": {},
   "source": [
    "Demonstrate some images"
   ]
  },
  {
   "cell_type": "code",
   "execution_count": 25,
   "metadata": {
    "pycharm": {
     "name": "#%%\n"
    }
   },
   "outputs": [
    {
     "data": {
      "image/jpeg": "[encoded data removed]",
      "text/plain": [
       "<IPython.core.display.Image object>"
      ]
     },
     "execution_count": 25,
     "metadata": {},
     "output_type": "execute_result"
    }
   ],
   "source": [
    "Image(filename=f\"{data_dir}/water.jpg\")"
   ]
  },
  {
   "cell_type": "code",
   "execution_count": 26,
   "metadata": {
    "pycharm": {
     "name": "#%%\n"
    }
   },
   "outputs": [
    {
     "data": {
      "image/jpeg": "[encoded data removed]",
      "text/plain": [
       "<IPython.core.display.Image object>"
      ]
     },
     "execution_count": 26,
     "metadata": {},
     "output_type": "execute_result"
    }
   ],
   "source": [
    "Image(filename=f\"{data_dir}/field.jpg\")"
   ]
  },
  {
   "cell_type": "markdown",
   "metadata": {},
   "source": [
    "# Висновок\n",
    "\n",
    "У даному завданні були взяті два різні види зображення(поле та вода). Ці дані були перетворені на вектори\n",
    "фіч та розподілені на вибірки для тренування та навчання. Для навчання використовувався лінійний одношаровий персептрон. Модель вказаного программного класу була навчена методом ```fit```. Для класифікації був використаний метод ```predict``` із вказаного программного класу. Модель показала точність 50%. Можливими проблемами такої низької якості є: недостатня кількість епох навчання, не пудубрані гіперпараметри швидкості навчання та моменту, мала кількість реалізацій."
   ]
  }
 ],
 "metadata": {
  "kernelspec": {
   "display_name": "Python 3",
   "language": "python",
   "name": "python3"
  },
  "language_info": {
   "codemirror_mode": {
    "name": "ipython",
    "version": 3
   },
   "file_extension": ".py",
   "mimetype": "text/x-python",
   "name": "python",
   "nbconvert_exporter": "python",
   "pygments_lexer": "ipython3",
   "version": "3.8.6"
  }
 },
 "nbformat": 4,
 "nbformat_minor": 1
}
