{
 "cells": [
  {
   "cell_type": "markdown",
   "metadata": {},
   "source": [
    "# Код реалізації та результати роботи до завдання 4\n",
    "Import libraries\n"
   ]
  },
  {
   "cell_type": "code",
   "execution_count": 46,
   "metadata": {
    "collapsed": true
   },
   "outputs": [],
   "source": [
    "from math import sqrt, pow\n",
    "import numpy as np\n",
    "from sklearn.metrics import accuracy_score\n",
    "import matplotlib.pyplot as plt\n",
    "from IPython.display import Image\n",
    "from functools import partial\n",
    "\n",
    "from labs.helpers import read_dataset"
   ]
  },
  {
   "cell_type": "markdown",
   "metadata": {},
   "source": [
    "Prepare to load data"
   ]
  },
  {
   "cell_type": "code",
   "execution_count": 47,
   "metadata": {
    "pycharm": {
     "name": "#%%\n"
    }
   },
   "outputs": [],
   "source": [
    "data_dir = \"../../data/train\"\n",
    "classes = [\"field\", \"water\"]\n",
    "file_pattern = \"*{}*.jpg\"\n",
    "standard_shape = (50, 50, 3)"
   ]
  },
  {
   "cell_type": "markdown",
   "metadata": {},
   "source": [
    "Load data and split it to train and test datasets"
   ]
  },
  {
   "cell_type": "code",
   "execution_count": 48,
   "metadata": {
    "pycharm": {
     "name": "#%%\n"
    }
   },
   "outputs": [],
   "source": [
    "dataset, features = read_dataset(data_dir, classes, file_pattern, standard_shape)\n",
    "train_df = dataset.sample(frac=0.8, random_state=18)\n",
    "test_df = dataset.drop(train_df.index)"
   ]
  },
  {
   "cell_type": "markdown",
   "metadata": {},
   "source": [
    "Demonstrate datasets"
   ]
  },
  {
   "cell_type": "code",
   "execution_count": 49,
   "metadata": {
    "pycharm": {
     "name": "#%%\n"
    }
   },
   "outputs": [
    {
     "data": {
      "text/html": [
       "<div>\n",
       "<style scoped>\n",
       "    .dataframe tbody tr th:only-of-type {\n",
       "        vertical-align: middle;\n",
       "    }\n",
       "\n",
       "    .dataframe tbody tr th {\n",
       "        vertical-align: top;\n",
       "    }\n",
       "\n",
       "    .dataframe thead th {\n",
       "        text-align: right;\n",
       "    }\n",
       "</style>\n",
       "<table border=\"1\" class=\"dataframe\">\n",
       "  <thead>\n",
       "    <tr style=\"text-align: right;\">\n",
       "      <th></th>\n",
       "      <th>1:1:1</th>\n",
       "      <th>1:1:2</th>\n",
       "      <th>1:1:3</th>\n",
       "      <th>1:2:1</th>\n",
       "      <th>1:2:2</th>\n",
       "      <th>1:2:3</th>\n",
       "      <th>1:3:1</th>\n",
       "      <th>1:3:2</th>\n",
       "      <th>1:3:3</th>\n",
       "      <th>1:4:1</th>\n",
       "      <th>...</th>\n",
       "      <th>50:48:1</th>\n",
       "      <th>50:48:2</th>\n",
       "      <th>50:48:3</th>\n",
       "      <th>50:49:1</th>\n",
       "      <th>50:49:2</th>\n",
       "      <th>50:49:3</th>\n",
       "      <th>50:50:1</th>\n",
       "      <th>50:50:2</th>\n",
       "      <th>50:50:3</th>\n",
       "      <th>class</th>\n",
       "    </tr>\n",
       "  </thead>\n",
       "  <tbody>\n",
       "    <tr>\n",
       "      <th>0</th>\n",
       "      <td>0.0</td>\n",
       "      <td>7.0</td>\n",
       "      <td>3.0</td>\n",
       "      <td>11.0</td>\n",
       "      <td>24.0</td>\n",
       "      <td>15.0</td>\n",
       "      <td>0.0</td>\n",
       "      <td>10.0</td>\n",
       "      <td>0.0</td>\n",
       "      <td>10.0</td>\n",
       "      <td>...</td>\n",
       "      <td>156.0</td>\n",
       "      <td>199.0</td>\n",
       "      <td>143.0</td>\n",
       "      <td>152.0</td>\n",
       "      <td>192.0</td>\n",
       "      <td>129.0</td>\n",
       "      <td>157.0</td>\n",
       "      <td>197.0</td>\n",
       "      <td>134.0</td>\n",
       "      <td>field</td>\n",
       "    </tr>\n",
       "    <tr>\n",
       "      <th>13</th>\n",
       "      <td>48.0</td>\n",
       "      <td>83.0</td>\n",
       "      <td>76.0</td>\n",
       "      <td>51.0</td>\n",
       "      <td>86.0</td>\n",
       "      <td>79.0</td>\n",
       "      <td>55.0</td>\n",
       "      <td>90.0</td>\n",
       "      <td>83.0</td>\n",
       "      <td>54.0</td>\n",
       "      <td>...</td>\n",
       "      <td>52.0</td>\n",
       "      <td>85.0</td>\n",
       "      <td>74.0</td>\n",
       "      <td>61.0</td>\n",
       "      <td>94.0</td>\n",
       "      <td>85.0</td>\n",
       "      <td>59.0</td>\n",
       "      <td>92.0</td>\n",
       "      <td>83.0</td>\n",
       "      <td>water</td>\n",
       "    </tr>\n",
       "    <tr>\n",
       "      <th>18</th>\n",
       "      <td>58.0</td>\n",
       "      <td>92.0</td>\n",
       "      <td>91.0</td>\n",
       "      <td>61.0</td>\n",
       "      <td>95.0</td>\n",
       "      <td>94.0</td>\n",
       "      <td>67.0</td>\n",
       "      <td>101.0</td>\n",
       "      <td>100.0</td>\n",
       "      <td>73.0</td>\n",
       "      <td>...</td>\n",
       "      <td>73.0</td>\n",
       "      <td>103.0</td>\n",
       "      <td>95.0</td>\n",
       "      <td>87.0</td>\n",
       "      <td>115.0</td>\n",
       "      <td>103.0</td>\n",
       "      <td>86.0</td>\n",
       "      <td>114.0</td>\n",
       "      <td>102.0</td>\n",
       "      <td>water</td>\n",
       "    </tr>\n",
       "    <tr>\n",
       "      <th>12</th>\n",
       "      <td>61.0</td>\n",
       "      <td>87.0</td>\n",
       "      <td>74.0</td>\n",
       "      <td>70.0</td>\n",
       "      <td>96.0</td>\n",
       "      <td>83.0</td>\n",
       "      <td>80.0</td>\n",
       "      <td>107.0</td>\n",
       "      <td>90.0</td>\n",
       "      <td>94.0</td>\n",
       "      <td>...</td>\n",
       "      <td>97.0</td>\n",
       "      <td>129.0</td>\n",
       "      <td>106.0</td>\n",
       "      <td>91.0</td>\n",
       "      <td>120.0</td>\n",
       "      <td>102.0</td>\n",
       "      <td>91.0</td>\n",
       "      <td>120.0</td>\n",
       "      <td>102.0</td>\n",
       "      <td>water</td>\n",
       "    </tr>\n",
       "    <tr>\n",
       "      <th>7</th>\n",
       "      <td>126.0</td>\n",
       "      <td>168.0</td>\n",
       "      <td>102.0</td>\n",
       "      <td>125.0</td>\n",
       "      <td>168.0</td>\n",
       "      <td>99.0</td>\n",
       "      <td>123.0</td>\n",
       "      <td>166.0</td>\n",
       "      <td>97.0</td>\n",
       "      <td>123.0</td>\n",
       "      <td>...</td>\n",
       "      <td>175.0</td>\n",
       "      <td>196.0</td>\n",
       "      <td>119.0</td>\n",
       "      <td>181.0</td>\n",
       "      <td>197.0</td>\n",
       "      <td>122.0</td>\n",
       "      <td>181.0</td>\n",
       "      <td>197.0</td>\n",
       "      <td>122.0</td>\n",
       "      <td>field</td>\n",
       "    </tr>\n",
       "  </tbody>\n",
       "</table>\n",
       "<p>5 rows × 7501 columns</p>\n",
       "</div>"
      ],
      "text/plain": [
       "    1:1:1  1:1:2  1:1:3  1:2:1  1:2:2  1:2:3  1:3:1  1:3:2  1:3:3  1:4:1  ...  \\\n",
       "0     0.0    7.0    3.0   11.0   24.0   15.0    0.0   10.0    0.0   10.0  ...   \n",
       "13   48.0   83.0   76.0   51.0   86.0   79.0   55.0   90.0   83.0   54.0  ...   \n",
       "18   58.0   92.0   91.0   61.0   95.0   94.0   67.0  101.0  100.0   73.0  ...   \n",
       "12   61.0   87.0   74.0   70.0   96.0   83.0   80.0  107.0   90.0   94.0  ...   \n",
       "7   126.0  168.0  102.0  125.0  168.0   99.0  123.0  166.0   97.0  123.0  ...   \n",
       "\n",
       "    50:48:1  50:48:2  50:48:3  50:49:1  50:49:2  50:49:3  50:50:1  50:50:2  \\\n",
       "0     156.0    199.0    143.0    152.0    192.0    129.0    157.0    197.0   \n",
       "13     52.0     85.0     74.0     61.0     94.0     85.0     59.0     92.0   \n",
       "18     73.0    103.0     95.0     87.0    115.0    103.0     86.0    114.0   \n",
       "12     97.0    129.0    106.0     91.0    120.0    102.0     91.0    120.0   \n",
       "7     175.0    196.0    119.0    181.0    197.0    122.0    181.0    197.0   \n",
       "\n",
       "    50:50:3  class  \n",
       "0     134.0  field  \n",
       "13     83.0  water  \n",
       "18    102.0  water  \n",
       "12    102.0  water  \n",
       "7     122.0  field  \n",
       "\n",
       "[5 rows x 7501 columns]"
      ]
     },
     "execution_count": 49,
     "metadata": {},
     "output_type": "execute_result"
    }
   ],
   "source": [
    "train_df.head()"
   ]
  },
  {
   "cell_type": "code",
   "execution_count": 50,
   "metadata": {
    "pycharm": {
     "name": "#%%\n"
    }
   },
   "outputs": [
    {
     "data": {
      "text/html": [
       "<div>\n",
       "<style scoped>\n",
       "    .dataframe tbody tr th:only-of-type {\n",
       "        vertical-align: middle;\n",
       "    }\n",
       "\n",
       "    .dataframe tbody tr th {\n",
       "        vertical-align: top;\n",
       "    }\n",
       "\n",
       "    .dataframe thead th {\n",
       "        text-align: right;\n",
       "    }\n",
       "</style>\n",
       "<table border=\"1\" class=\"dataframe\">\n",
       "  <thead>\n",
       "    <tr style=\"text-align: right;\">\n",
       "      <th></th>\n",
       "      <th>1:1:1</th>\n",
       "      <th>1:1:2</th>\n",
       "      <th>1:1:3</th>\n",
       "      <th>1:2:1</th>\n",
       "      <th>1:2:2</th>\n",
       "      <th>1:2:3</th>\n",
       "      <th>1:3:1</th>\n",
       "      <th>1:3:2</th>\n",
       "      <th>1:3:3</th>\n",
       "      <th>1:4:1</th>\n",
       "      <th>...</th>\n",
       "      <th>50:48:1</th>\n",
       "      <th>50:48:2</th>\n",
       "      <th>50:48:3</th>\n",
       "      <th>50:49:1</th>\n",
       "      <th>50:49:2</th>\n",
       "      <th>50:49:3</th>\n",
       "      <th>50:50:1</th>\n",
       "      <th>50:50:2</th>\n",
       "      <th>50:50:3</th>\n",
       "      <th>class</th>\n",
       "    </tr>\n",
       "  </thead>\n",
       "  <tbody>\n",
       "    <tr>\n",
       "      <th>5</th>\n",
       "      <td>196.0</td>\n",
       "      <td>207.0</td>\n",
       "      <td>131.0</td>\n",
       "      <td>194.0</td>\n",
       "      <td>205.0</td>\n",
       "      <td>129.0</td>\n",
       "      <td>190.0</td>\n",
       "      <td>200.0</td>\n",
       "      <td>127.0</td>\n",
       "      <td>186.0</td>\n",
       "      <td>...</td>\n",
       "      <td>174.0</td>\n",
       "      <td>186.0</td>\n",
       "      <td>114.0</td>\n",
       "      <td>174.0</td>\n",
       "      <td>192.0</td>\n",
       "      <td>116.0</td>\n",
       "      <td>174.0</td>\n",
       "      <td>192.0</td>\n",
       "      <td>116.0</td>\n",
       "      <td>field</td>\n",
       "    </tr>\n",
       "    <tr>\n",
       "      <th>10</th>\n",
       "      <td>212.0</td>\n",
       "      <td>217.0</td>\n",
       "      <td>161.0</td>\n",
       "      <td>214.0</td>\n",
       "      <td>219.0</td>\n",
       "      <td>163.0</td>\n",
       "      <td>212.0</td>\n",
       "      <td>220.0</td>\n",
       "      <td>163.0</td>\n",
       "      <td>204.0</td>\n",
       "      <td>...</td>\n",
       "      <td>146.0</td>\n",
       "      <td>190.0</td>\n",
       "      <td>103.0</td>\n",
       "      <td>150.0</td>\n",
       "      <td>194.0</td>\n",
       "      <td>105.0</td>\n",
       "      <td>150.0</td>\n",
       "      <td>194.0</td>\n",
       "      <td>105.0</td>\n",
       "      <td>field</td>\n",
       "    </tr>\n",
       "    <tr>\n",
       "      <th>17</th>\n",
       "      <td>66.0</td>\n",
       "      <td>105.0</td>\n",
       "      <td>86.0</td>\n",
       "      <td>64.0</td>\n",
       "      <td>103.0</td>\n",
       "      <td>84.0</td>\n",
       "      <td>62.0</td>\n",
       "      <td>101.0</td>\n",
       "      <td>82.0</td>\n",
       "      <td>59.0</td>\n",
       "      <td>...</td>\n",
       "      <td>153.0</td>\n",
       "      <td>173.0</td>\n",
       "      <td>88.0</td>\n",
       "      <td>120.0</td>\n",
       "      <td>143.0</td>\n",
       "      <td>99.0</td>\n",
       "      <td>87.0</td>\n",
       "      <td>110.0</td>\n",
       "      <td>66.0</td>\n",
       "      <td>water</td>\n",
       "    </tr>\n",
       "    <tr>\n",
       "      <th>19</th>\n",
       "      <td>55.0</td>\n",
       "      <td>87.0</td>\n",
       "      <td>82.0</td>\n",
       "      <td>54.0</td>\n",
       "      <td>86.0</td>\n",
       "      <td>81.0</td>\n",
       "      <td>53.0</td>\n",
       "      <td>85.0</td>\n",
       "      <td>80.0</td>\n",
       "      <td>53.0</td>\n",
       "      <td>...</td>\n",
       "      <td>178.0</td>\n",
       "      <td>196.0</td>\n",
       "      <td>114.0</td>\n",
       "      <td>173.0</td>\n",
       "      <td>192.0</td>\n",
       "      <td>113.0</td>\n",
       "      <td>158.0</td>\n",
       "      <td>177.0</td>\n",
       "      <td>98.0</td>\n",
       "      <td>water</td>\n",
       "    </tr>\n",
       "  </tbody>\n",
       "</table>\n",
       "<p>4 rows × 7501 columns</p>\n",
       "</div>"
      ],
      "text/plain": [
       "    1:1:1  1:1:2  1:1:3  1:2:1  1:2:2  1:2:3  1:3:1  1:3:2  1:3:3  1:4:1  ...  \\\n",
       "5   196.0  207.0  131.0  194.0  205.0  129.0  190.0  200.0  127.0  186.0  ...   \n",
       "10  212.0  217.0  161.0  214.0  219.0  163.0  212.0  220.0  163.0  204.0  ...   \n",
       "17   66.0  105.0   86.0   64.0  103.0   84.0   62.0  101.0   82.0   59.0  ...   \n",
       "19   55.0   87.0   82.0   54.0   86.0   81.0   53.0   85.0   80.0   53.0  ...   \n",
       "\n",
       "    50:48:1  50:48:2  50:48:3  50:49:1  50:49:2  50:49:3  50:50:1  50:50:2  \\\n",
       "5     174.0    186.0    114.0    174.0    192.0    116.0    174.0    192.0   \n",
       "10    146.0    190.0    103.0    150.0    194.0    105.0    150.0    194.0   \n",
       "17    153.0    173.0     88.0    120.0    143.0     99.0     87.0    110.0   \n",
       "19    178.0    196.0    114.0    173.0    192.0    113.0    158.0    177.0   \n",
       "\n",
       "    50:50:3  class  \n",
       "5     116.0  field  \n",
       "10    105.0  field  \n",
       "17     66.0  water  \n",
       "19     98.0  water  \n",
       "\n",
       "[4 rows x 7501 columns]"
      ]
     },
     "execution_count": 50,
     "metadata": {},
     "output_type": "execute_result"
    }
   ],
   "source": [
    "test_df.head()"
   ]
  },
  {
   "cell_type": "markdown",
   "metadata": {},
   "source": [
    "Python class that realizes learning and prediction operations"
   ]
  },
  {
   "cell_type": "code",
   "execution_count": 59,
   "metadata": {
    "pycharm": {
     "name": "#%%\n"
    }
   },
   "outputs": [],
   "source": [
    "class Classifier:\n",
    "    __features = None\n",
    "    __target = None\n",
    "    __classes = None\n",
    "    window_width = 100\n",
    "    __all_measures = None\n",
    "    weight_column_name = \"weight\"\n",
    "\n",
    "    def fit(self, df, train_features, target):\n",
    "        self.__features = train_features\n",
    "        self.__target = target\n",
    "        self.__classes = df[self.__target].unique()\n",
    "        self.__all_measures = df[train_features + [target]].copy()\n",
    "        self.__all_measures[self.weight_column_name] = 0\n",
    "        while True:\n",
    "            continue_learning = False\n",
    "            for index, feature_values in self.__all_measures.iterrows():\n",
    "                real_class = feature_values[self.__target]\n",
    "                measure = feature_values[self.__features].values\n",
    "                best_potential_class = self.__define_best_potential_class(measure)\n",
    "                if best_potential_class != real_class:\n",
    "                    continue_learning = True\n",
    "                    self.__all_measures[self.weight_column_name] += 1\n",
    "            if not continue_learning:\n",
    "                break\n",
    "\n",
    "    def __define_best_potential_class(self, measure):\n",
    "        potentials = self.__calc_potentials_for_classes(measure)\n",
    "        if potentials[0] == potentials[1]:\n",
    "            return \"\"\n",
    "        best_potential_class_index = np.argmax(potentials)\n",
    "        best_potential_class = self.__classes[best_potential_class_index]\n",
    "        return best_potential_class\n",
    "\n",
    "    def __calc_potentials_for_classes(self, measure):\n",
    "        classes_potentials = []\n",
    "        func_to_iterate = partial(self.__calc_weight_function, measure)\n",
    "        for class_name in self.__classes:\n",
    "            class_df = self.__all_measures[self.__all_measures[self.__target] == class_name]\n",
    "            result = class_df[self.__features + [self.weight_column_name]].apply(func_to_iterate , axis=1 )\n",
    "            classes_potentials.append(sum(result.values))\n",
    "        return classes_potentials\n",
    "\n",
    "    def __calc_weight_function(self, measure1, measure_weight_2):\n",
    "        measure2 = measure_weight_2[self.__features].values\n",
    "        weight = measure_weight_2[self.weight_column_name]\n",
    "        dist = self.__calc_evclid_distance(measure1, measure2) / self.window_width\n",
    "        return weight * self.calc_potential_func(dist)\n",
    "\n",
    "    @staticmethod\n",
    "    def calc_potential_func(x):\n",
    "        return 1 / (x + 1)\n",
    "\n",
    "    @staticmethod\n",
    "    def __calc_evclid_distance(measure1, measure2):\n",
    "        difference = measure1 - measure2\n",
    "        squared_diff = np.square(difference)\n",
    "        sum_of_squared_diff = np.sum(squared_diff)\n",
    "        return sqrt(sum_of_squared_diff)\n",
    "\n",
    "    @property\n",
    "    def weights(self):\n",
    "        return self.__all_measures[self.weight_column_name].values\n",
    "\n",
    "    def predict(self, df):\n",
    "        classes_ = df[self.__features].apply(self.__define_best_potential_class, axis=1).values\n",
    "        return classes_\n"
   ]
  },
  {
   "cell_type": "markdown",
   "metadata": {},
   "source": [
    "Train the model and predict classes for test data"
   ]
  },
  {
   "cell_type": "code",
   "execution_count": 60,
   "metadata": {
    "pycharm": {
     "name": "#%%\n"
    }
   },
   "outputs": [
    {
     "name": "stdout",
     "output_type": "stream",
     "text": [
      "Model stopped learning with such weights : [1 1 1 1 1 1 1 1 1 1 1 1 1 1 1 1 1 1]\n"
     ]
    }
   ],
   "source": [
    "model = Classifier()\n",
    "model.fit(train_df, features, \"class\")\n",
    "print(f\"Model stopped learning with such weights : {model.weights}\")"
   ]
  },
  {
   "cell_type": "code",
   "execution_count": 61,
   "metadata": {
    "pycharm": {
     "name": "#%%\n"
    }
   },
   "outputs": [
    {
     "name": "stdout",
     "output_type": "stream",
     "text": [
      "Accuracy is 100.0 %\n"
     ]
    }
   ],
   "source": [
    "predicted_classes = model.predict(test_df)\n",
    "real_classes = test_df[\"class\"].values\n",
    "acc_sc = accuracy_score(real_classes, predicted_classes)\n",
    "print(f\"Accuracy is {acc_sc * 100} %\")"
   ]
  },
  {
   "cell_type": "markdown",
   "metadata": {},
   "source": [
    "Dependency of accuracy from number of features"
   ]
  },
  {
   "cell_type": "code",
   "execution_count": 54,
   "metadata": {
    "pycharm": {
     "name": "#%%\n"
    }
   },
   "outputs": [
    {
     "data": {
      "text/plain": [
       "Text(0, 0.5, 'Accuracy')"
      ]
     },
     "execution_count": 54,
     "metadata": {},
     "output_type": "execute_result"
    },
    {
     "data": {
      "image/png": "[encoded data removed]",
      "text/plain": [
       "<Figure size 432x288 with 1 Axes>"
      ]
     },
     "metadata": {
      "needs_background": "light"
     },
     "output_type": "display_data"
    }
   ],
   "source": [
    "features_numbers = []\n",
    "accuracy_values = []\n",
    "for i in range(100, 7500, 100):\n",
    "    local_features_to_use = features[:i]\n",
    "    local_model = Classifier()\n",
    "    local_model.fit(train_df, local_features_to_use, \"class\")\n",
    "    local_predicted_classes = local_model.predict(test_df)\n",
    "    local_acc = round(accuracy_score(real_classes, local_predicted_classes), 3)\n",
    "    features_numbers.append(i)\n",
    "    accuracy_values.append(local_acc)\n",
    "\n",
    "plt.plot(features_numbers, accuracy_values)\n",
    "plt.title(\"Dependency of accuracy from number of features\")\n",
    "plt.xlabel(\"Features_number\")\n",
    "plt.ylabel(\"Accuracy\")"
   ]
  },
  {
   "cell_type": "markdown",
   "metadata": {},
   "source": [
    "Demonstrate some images"
   ]
  },
  {
   "cell_type": "code",
   "execution_count": 55,
   "metadata": {
    "pycharm": {
     "name": "#%%\n"
    }
   },
   "outputs": [
    {
     "data": {
      "image/jpeg": "[encoded data removed]",
      "text/plain": [
       "<IPython.core.display.Image object>"
      ]
     },
     "execution_count": 55,
     "metadata": {},
     "output_type": "execute_result"
    }
   ],
   "source": [
    "Image(filename=f\"{data_dir}/water.jpg\")"
   ]
  },
  {
   "cell_type": "code",
   "execution_count": 58,
   "metadata": {
    "pycharm": {
     "name": "#%%\n"
    }
   },
   "outputs": [
    {
     "data": {
      "image/jpeg": "[encoded data removed]",
      "text/plain": [
       "<IPython.core.display.Image object>"
      ]
     },
     "execution_count": 58,
     "metadata": {},
     "output_type": "execute_result"
    }
   ],
   "source": [
    "Image(filename=f\"{data_dir}/field.jpg\")"
   ]
  },
  {
   "cell_type": "markdown",
   "metadata": {},
   "source": [
    "# Висновок\n",
    "\n",
    "У даному завданні були взяті два різні види зображення(вода та поле). Ці дані були перетворені на вектори\n",
    "фіч та розподілені на вибірки для тренування та навчання. Для навчання використовувався метод потенційних функцій. Модель вказаного программного класу була навчена методом ```fit```. Для класифікації був використаний метод ```predict``` із вказаного программного класу. Модель показала точність 100%. Далі були проведені тести стосовно побудови моделей, що навчаються за різною кількістю ознак.\n",
    "Як видно із малюнку графіку точність у вказаному тесті становить 100 відсотків не залежно від кількості ознак. Дана аномалія можлива через невеликий об'єм тренувальних та тестових даних, а також через велику розмірність."
   ]
  }
 ],
 "metadata": {
  "kernelspec": {
   "display_name": "Python 3",
   "language": "python",
   "name": "python3"
  },
  "language_info": {
   "codemirror_mode": {
    "name": "ipython",
    "version": 3
   },
   "file_extension": ".py",
   "mimetype": "text/x-python",
   "name": "python",
   "nbconvert_exporter": "python",
   "pygments_lexer": "ipython3",
   "version": "3.8.6"
  }
 },
 "nbformat": 4,
 "nbformat_minor": 1
}