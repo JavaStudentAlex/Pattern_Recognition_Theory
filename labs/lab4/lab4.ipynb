{
 "cells": [
  {
   "cell_type": "code",
   "execution_count": 58,
   "metadata": {
    "collapsed": true
   },
   "outputs": [],
   "source": [
    "from math import sqrt, pow\n",
    "import numpy as np\n",
    "\n",
    "from labs.helpers import read_dataset"
   ]
  },
  {
   "cell_type": "code",
   "execution_count": 59,
   "outputs": [],
   "source": [
    "data_dir = \"../../data/train\"\n",
    "classes = [\"field\", \"water\"]\n",
    "file_pattern = \"*{}*.jpg\"\n",
    "standard_shape = (50, 50, 3)"
   ],
   "metadata": {
    "collapsed": false,
    "pycharm": {
     "name": "#%%\n"
    }
   }
  },
  {
   "cell_type": "code",
   "execution_count": 60,
   "outputs": [],
   "source": [
    "dataset, features = read_dataset(data_dir, classes, file_pattern, standard_shape)\n",
    "train_df = dataset.sample(frac=0.8, random_state=18)\n",
    "test_df = dataset.drop(train_df.index)"
   ],
   "metadata": {
    "collapsed": false,
    "pycharm": {
     "name": "#%%\n"
    }
   }
  },
  {
   "cell_type": "code",
   "execution_count": 61,
   "outputs": [
    {
     "data": {
      "text/plain": "(18, 7501)"
     },
     "execution_count": 61,
     "metadata": {},
     "output_type": "execute_result"
    }
   ],
   "source": [
    "train_df.shape"
   ],
   "metadata": {
    "collapsed": false,
    "pycharm": {
     "name": "#%%\n"
    }
   }
  },
  {
   "cell_type": "code",
   "execution_count": 62,
   "outputs": [
    {
     "data": {
      "text/plain": "(4, 7501)"
     },
     "execution_count": 62,
     "metadata": {},
     "output_type": "execute_result"
    }
   ],
   "source": [
    "test_df.shape"
   ],
   "metadata": {
    "collapsed": false,
    "pycharm": {
     "name": "#%%\n"
    }
   }
  },
  {
   "cell_type": "code",
   "execution_count": 63,
   "outputs": [],
   "source": [
    "class Classifier:\n",
    "    __classes_centers = None\n",
    "    __features = None\n",
    "\n",
    "    def fit(self, df, train_features, target):\n",
    "        self.__features = train_features\n",
    "        self.__classes_centers = df.groupby(by=target).mean()[features]\n",
    "\n",
    "    def predict(self, df):\n",
    "\n",
    "        def iterate_over_test(measure):\n",
    "            distances = self.__classes_centers.apply(lambda x: self.__calc_evclid_distance(measure, x.values), axis=1).values\n",
    "            potentials = list(map(self.__calc_potential, distances))\n",
    "            class_index_number = np.argmax(potentials)\n",
    "            return self.__classes_centers.index[class_index_number]\n",
    "        defined_classes = df[self.__features].apply(iterate_over_test, axis=1).values\n",
    "        return defined_classes\n",
    "\n",
    "    @staticmethod\n",
    "    def __calc_potential(R):\n",
    "        return 1000000 / (1 + pow(R, 2))\n",
    "\n",
    "    @staticmethod\n",
    "    def __calc_evclid_distance(measure1, measure2):\n",
    "        difference = measure1 - measure2\n",
    "        squared_diff = np.square(difference)\n",
    "        sum_of_squared_diff = np.sum(squared_diff)\n",
    "        return sqrt(sum_of_squared_diff)\n"
   ],
   "metadata": {
    "collapsed": false,
    "pycharm": {
     "name": "#%%\n"
    }
   }
  },
  {
   "cell_type": "code",
   "execution_count": 64,
   "outputs": [
    {
     "data": {
      "text/plain": "    1:1:1  1:1:2  1:1:3  1:2:1  1:2:2  1:2:3  1:3:1  1:3:2  1:3:3  1:4:1  ...  \\\n5   196.0  207.0  131.0  194.0  205.0  129.0  190.0  200.0  127.0  186.0  ...   \n10  212.0  217.0  161.0  214.0  219.0  163.0  212.0  220.0  163.0  204.0  ...   \n17   66.0  105.0   86.0   64.0  103.0   84.0   62.0  101.0   82.0   59.0  ...   \n19   55.0   87.0   82.0   54.0   86.0   81.0   53.0   85.0   80.0   53.0  ...   \n\n    50:48:1  50:48:2  50:48:3  50:49:1  50:49:2  50:49:3  50:50:1  50:50:2  \\\n5     174.0    186.0    114.0    174.0    192.0    116.0    174.0    192.0   \n10    146.0    190.0    103.0    150.0    194.0    105.0    150.0    194.0   \n17    153.0    173.0     88.0    120.0    143.0     99.0     87.0    110.0   \n19    178.0    196.0    114.0    173.0    192.0    113.0    158.0    177.0   \n\n    50:50:3  class  \n5     116.0  field  \n10    105.0  field  \n17     66.0  water  \n19     98.0  water  \n\n[4 rows x 7501 columns]",
      "text/html": "<div>\n<style scoped>\n    .dataframe tbody tr th:only-of-type {\n        vertical-align: middle;\n    }\n\n    .dataframe tbody tr th {\n        vertical-align: top;\n    }\n\n    .dataframe thead th {\n        text-align: right;\n    }\n</style>\n<table border=\"1\" class=\"dataframe\">\n  <thead>\n    <tr style=\"text-align: right;\">\n      <th></th>\n      <th>1:1:1</th>\n      <th>1:1:2</th>\n      <th>1:1:3</th>\n      <th>1:2:1</th>\n      <th>1:2:2</th>\n      <th>1:2:3</th>\n      <th>1:3:1</th>\n      <th>1:3:2</th>\n      <th>1:3:3</th>\n      <th>1:4:1</th>\n      <th>...</th>\n      <th>50:48:1</th>\n      <th>50:48:2</th>\n      <th>50:48:3</th>\n      <th>50:49:1</th>\n      <th>50:49:2</th>\n      <th>50:49:3</th>\n      <th>50:50:1</th>\n      <th>50:50:2</th>\n      <th>50:50:3</th>\n      <th>class</th>\n    </tr>\n  </thead>\n  <tbody>\n    <tr>\n      <th>5</th>\n      <td>196.0</td>\n      <td>207.0</td>\n      <td>131.0</td>\n      <td>194.0</td>\n      <td>205.0</td>\n      <td>129.0</td>\n      <td>190.0</td>\n      <td>200.0</td>\n      <td>127.0</td>\n      <td>186.0</td>\n      <td>...</td>\n      <td>174.0</td>\n      <td>186.0</td>\n      <td>114.0</td>\n      <td>174.0</td>\n      <td>192.0</td>\n      <td>116.0</td>\n      <td>174.0</td>\n      <td>192.0</td>\n      <td>116.0</td>\n      <td>field</td>\n    </tr>\n    <tr>\n      <th>10</th>\n      <td>212.0</td>\n      <td>217.0</td>\n      <td>161.0</td>\n      <td>214.0</td>\n      <td>219.0</td>\n      <td>163.0</td>\n      <td>212.0</td>\n      <td>220.0</td>\n      <td>163.0</td>\n      <td>204.0</td>\n      <td>...</td>\n      <td>146.0</td>\n      <td>190.0</td>\n      <td>103.0</td>\n      <td>150.0</td>\n      <td>194.0</td>\n      <td>105.0</td>\n      <td>150.0</td>\n      <td>194.0</td>\n      <td>105.0</td>\n      <td>field</td>\n    </tr>\n    <tr>\n      <th>17</th>\n      <td>66.0</td>\n      <td>105.0</td>\n      <td>86.0</td>\n      <td>64.0</td>\n      <td>103.0</td>\n      <td>84.0</td>\n      <td>62.0</td>\n      <td>101.0</td>\n      <td>82.0</td>\n      <td>59.0</td>\n      <td>...</td>\n      <td>153.0</td>\n      <td>173.0</td>\n      <td>88.0</td>\n      <td>120.0</td>\n      <td>143.0</td>\n      <td>99.0</td>\n      <td>87.0</td>\n      <td>110.0</td>\n      <td>66.0</td>\n      <td>water</td>\n    </tr>\n    <tr>\n      <th>19</th>\n      <td>55.0</td>\n      <td>87.0</td>\n      <td>82.0</td>\n      <td>54.0</td>\n      <td>86.0</td>\n      <td>81.0</td>\n      <td>53.0</td>\n      <td>85.0</td>\n      <td>80.0</td>\n      <td>53.0</td>\n      <td>...</td>\n      <td>178.0</td>\n      <td>196.0</td>\n      <td>114.0</td>\n      <td>173.0</td>\n      <td>192.0</td>\n      <td>113.0</td>\n      <td>158.0</td>\n      <td>177.0</td>\n      <td>98.0</td>\n      <td>water</td>\n    </tr>\n  </tbody>\n</table>\n<p>4 rows × 7501 columns</p>\n</div>"
     },
     "execution_count": 64,
     "metadata": {},
     "output_type": "execute_result"
    }
   ],
   "source": [
    "test_df.head()"
   ],
   "metadata": {
    "collapsed": false,
    "pycharm": {
     "name": "#%%\n"
    }
   }
  },
  {
   "cell_type": "code",
   "execution_count": 65,
   "outputs": [
    {
     "data": {
      "text/plain": "array(['field', 'field', 'water', 'water'], dtype=object)"
     },
     "execution_count": 65,
     "metadata": {},
     "output_type": "execute_result"
    }
   ],
   "source": [
    "model = Classifier()\n",
    "model.fit(train_df, features, \"class\")\n",
    "model.predict(test_df)"
   ],
   "metadata": {
    "collapsed": false,
    "pycharm": {
     "name": "#%%\n"
    }
   }
  }
 ],
 "metadata": {
  "kernelspec": {
   "display_name": "Python 3",
   "language": "python",
   "name": "python3"
  },
  "language_info": {
   "codemirror_mode": {
    "name": "ipython",
    "version": 2
   },
   "file_extension": ".py",
   "mimetype": "text/x-python",
   "name": "python",
   "nbconvert_exporter": "python",
   "pygments_lexer": "ipython2",
   "version": "2.7.6"
  }
 },
 "nbformat": 4,
 "nbformat_minor": 0
}